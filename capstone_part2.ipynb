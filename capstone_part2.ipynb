{
  "nbformat": 4,
  "nbformat_minor": 0,
  "metadata": {
    "colab": {
      "provenance": []
    },
    "kernelspec": {
      "name": "python3",
      "display_name": "Python 3"
    },
    "language_info": {
      "name": "python"
    }
  },
  "cells": [
    {
      "cell_type": "markdown",
      "source": [
        "# Autonomous Driving part 2"
      ],
      "metadata": {
        "id": "zXQdel3HOEFP"
      }
    },
    {
      "cell_type": "code",
      "execution_count": null,
      "metadata": {
        "colab": {
          "base_uri": "https://localhost:8080/"
        },
        "id": "x6VLYctXO8Gu",
        "outputId": "3b0cef88-b7e1-4072-8d1e-106f0c486b25"
      },
      "outputs": [
        {
          "output_type": "stream",
          "name": "stderr",
          "text": [
            "[nltk_data] Downloading package punkt to /root/nltk_data...\n",
            "[nltk_data]   Unzipping tokenizers/punkt.zip.\n",
            "[nltk_data] Downloading package averaged_perceptron_tagger to\n",
            "[nltk_data]     /root/nltk_data...\n",
            "[nltk_data]   Unzipping taggers/averaged_perceptron_tagger.zip.\n",
            "[nltk_data] Downloading package wordnet to /root/nltk_data...\n",
            "[nltk_data] Downloading package omw-1.4 to /root/nltk_data...\n"
          ]
        }
      ],
      "source": [
        "import pandas as pd\n",
        "import numpy as np\n",
        "import seaborn as sns\n",
        "import matplotlib.pyplot as plt\n",
        "import nltk\n",
        "nltk.download('punkt')\n",
        "nltk.download('averaged_perceptron_tagger')\n",
        "nltk.download('wordnet')\n",
        "nltk.download('omw-1.4')\n",
        "from nltk import word_tokenize\n",
        "from nltk.stem import WordNetLemmatizer\n",
        "from nltk.corpus import wordnet\n",
        "from sklearn.feature_extraction.text import TfidfVectorizer\n",
        "from sklearn.cluster import KMeans"
      ]
    },
    {
      "cell_type": "code",
      "source": [
        "from google.colab import drive\n",
        "drive.mount('/content/drive')"
      ],
      "metadata": {
        "colab": {
          "base_uri": "https://localhost:8080/"
        },
        "id": "eJ4--AOxRMLN",
        "outputId": "9bb329a1-bcd4-455a-c3f3-ec0f0e5cebcd"
      },
      "execution_count": null,
      "outputs": [
        {
          "output_type": "stream",
          "name": "stdout",
          "text": [
            "Mounted at /content/drive\n"
          ]
        }
      ]
    },
    {
      "cell_type": "code",
      "source": [
        "data = pd.read_csv(\"/content/drive/MyDrive/capstone data/Tesla - Deaths.csv\")"
      ],
      "metadata": {
        "id": "IBQvLpHKRN05"
      },
      "execution_count": null,
      "outputs": []
    },
    {
      "cell_type": "code",
      "source": [
        "data.head()"
      ],
      "metadata": {
        "colab": {
          "base_uri": "https://localhost:8080/",
          "height": 551
        },
        "collapsed": true,
        "id": "gkeeDO4rRNs0",
        "outputId": "2efe9615-b8a4-413f-bced-c178ea73e4d6"
      },
      "execution_count": null,
      "outputs": [
        {
          "output_type": "execute_result",
          "data": {
            "text/plain": [
              "   Case #    Year        Date  Country   State   \\\n",
              "0   294.0  2022.0   1/17/2023      USA       CA   \n",
              "1   293.0  2022.0    1/7/2023   Canada        -   \n",
              "2   292.0  2022.0    1/7/2023      USA       WA   \n",
              "3   291.0  2022.0  12/22/2022      USA       GA   \n",
              "4   290.0  2022.0  12/19/2022   Canada        -   \n",
              "\n",
              "                         Description    Deaths   Tesla driver   \\\n",
              "0    Tesla crashes into back of semi        1.0             1    \n",
              "1                      Tesla crashes        1.0             1    \n",
              "2   Tesla hits pole, catches on fire        1.0             -    \n",
              "3            Tesla crashes and burns        1.0             1    \n",
              "4      Tesla crashes into storefront        1.0             -    \n",
              "\n",
              "   Tesla occupant   Other vehicle   ...  Verified Tesla Autopilot Deaths   \\\n",
              "0               -               -   ...                                -    \n",
              "1               -               -   ...                                -    \n",
              "2               1               -   ...                                -    \n",
              "3               -               -   ...                                -    \n",
              "4               -               -   ...                                -    \n",
              "\n",
              "   Verified Tesla Autopilot Deaths + All Deaths Reported to NHTSA SGO   \\\n",
              "0                                                 -                      \n",
              "1                                                 -                      \n",
              "2                                                 -                      \n",
              "3                                                 -                      \n",
              "4                                                 -                      \n",
              "\n",
              "                                         Unnamed: 16  \\\n",
              "0   https://web.archive.org/web/20221222203930/ht...   \n",
              "1   https://web.archive.org/web/20221222203930/ht...   \n",
              "2   https://web.archive.org/web/20221222203930/ht...   \n",
              "3   https://web.archive.org/web/20221222203930/ht...   \n",
              "4   https://web.archive.org/web/20221223203725/ht...   \n",
              "\n",
              "                                         Unnamed: 17  \\\n",
              "0   https://web.archive.org/web/20221222203930/ht...   \n",
              "1   https://web.archive.org/web/20221222203930/ht...   \n",
              "2   https://web.archive.org/web/20221222203930/ht...   \n",
              "3   https://web.archive.org/web/20221222203930/ht...   \n",
              "4   https://web.archive.org/web/20221223203725/ht...   \n",
              "\n",
              "                                             Source   Note   \\\n",
              "0   https://web.archive.org/web/20230118162813/ht...    NaN   \n",
              "1   https://web.archive.org/web/20230109041434/ht...    NaN   \n",
              "2   https://web.archive.org/web/20230107232745/ht...    NaN   \n",
              "3   https://web.archive.org/web/20221222203930/ht...    NaN   \n",
              "4   https://web.archive.org/web/20221223203725/ht...    NaN   \n",
              "\n",
              "         Deceased 1   Deceased 2   Deceased 3   Deceased 4   \n",
              "0                NaN          NaN          NaN          NaN  \n",
              "1   Taren Singh Lal           NaN          NaN          NaN  \n",
              "2                NaN          NaN          NaN          NaN  \n",
              "3                NaN          NaN          NaN          NaN  \n",
              "4                NaN          NaN          NaN          NaN  \n",
              "\n",
              "[5 rows x 24 columns]"
            ],
            "text/html": [
              "\n",
              "  <div id=\"df-9a6e4d3b-9b89-4a3f-bdbd-d02cbdae592f\" class=\"colab-df-container\">\n",
              "    <div>\n",
              "<style scoped>\n",
              "    .dataframe tbody tr th:only-of-type {\n",
              "        vertical-align: middle;\n",
              "    }\n",
              "\n",
              "    .dataframe tbody tr th {\n",
              "        vertical-align: top;\n",
              "    }\n",
              "\n",
              "    .dataframe thead th {\n",
              "        text-align: right;\n",
              "    }\n",
              "</style>\n",
              "<table border=\"1\" class=\"dataframe\">\n",
              "  <thead>\n",
              "    <tr style=\"text-align: right;\">\n",
              "      <th></th>\n",
              "      <th>Case #</th>\n",
              "      <th>Year</th>\n",
              "      <th>Date</th>\n",
              "      <th>Country</th>\n",
              "      <th>State</th>\n",
              "      <th>Description</th>\n",
              "      <th>Deaths</th>\n",
              "      <th>Tesla driver</th>\n",
              "      <th>Tesla occupant</th>\n",
              "      <th>Other vehicle</th>\n",
              "      <th>...</th>\n",
              "      <th>Verified Tesla Autopilot Deaths</th>\n",
              "      <th>Verified Tesla Autopilot Deaths + All Deaths Reported to NHTSA SGO</th>\n",
              "      <th>Unnamed: 16</th>\n",
              "      <th>Unnamed: 17</th>\n",
              "      <th>Source</th>\n",
              "      <th>Note</th>\n",
              "      <th>Deceased 1</th>\n",
              "      <th>Deceased 2</th>\n",
              "      <th>Deceased 3</th>\n",
              "      <th>Deceased 4</th>\n",
              "    </tr>\n",
              "  </thead>\n",
              "  <tbody>\n",
              "    <tr>\n",
              "      <th>0</th>\n",
              "      <td>294.0</td>\n",
              "      <td>2022.0</td>\n",
              "      <td>1/17/2023</td>\n",
              "      <td>USA</td>\n",
              "      <td>CA</td>\n",
              "      <td>Tesla crashes into back of semi</td>\n",
              "      <td>1.0</td>\n",
              "      <td>1</td>\n",
              "      <td>-</td>\n",
              "      <td>-</td>\n",
              "      <td>...</td>\n",
              "      <td>-</td>\n",
              "      <td>-</td>\n",
              "      <td>https://web.archive.org/web/20221222203930/ht...</td>\n",
              "      <td>https://web.archive.org/web/20221222203930/ht...</td>\n",
              "      <td>https://web.archive.org/web/20230118162813/ht...</td>\n",
              "      <td>NaN</td>\n",
              "      <td>NaN</td>\n",
              "      <td>NaN</td>\n",
              "      <td>NaN</td>\n",
              "      <td>NaN</td>\n",
              "    </tr>\n",
              "    <tr>\n",
              "      <th>1</th>\n",
              "      <td>293.0</td>\n",
              "      <td>2022.0</td>\n",
              "      <td>1/7/2023</td>\n",
              "      <td>Canada</td>\n",
              "      <td>-</td>\n",
              "      <td>Tesla crashes</td>\n",
              "      <td>1.0</td>\n",
              "      <td>1</td>\n",
              "      <td>-</td>\n",
              "      <td>-</td>\n",
              "      <td>...</td>\n",
              "      <td>-</td>\n",
              "      <td>-</td>\n",
              "      <td>https://web.archive.org/web/20221222203930/ht...</td>\n",
              "      <td>https://web.archive.org/web/20221222203930/ht...</td>\n",
              "      <td>https://web.archive.org/web/20230109041434/ht...</td>\n",
              "      <td>NaN</td>\n",
              "      <td>Taren Singh Lal</td>\n",
              "      <td>NaN</td>\n",
              "      <td>NaN</td>\n",
              "      <td>NaN</td>\n",
              "    </tr>\n",
              "    <tr>\n",
              "      <th>2</th>\n",
              "      <td>292.0</td>\n",
              "      <td>2022.0</td>\n",
              "      <td>1/7/2023</td>\n",
              "      <td>USA</td>\n",
              "      <td>WA</td>\n",
              "      <td>Tesla hits pole, catches on fire</td>\n",
              "      <td>1.0</td>\n",
              "      <td>-</td>\n",
              "      <td>1</td>\n",
              "      <td>-</td>\n",
              "      <td>...</td>\n",
              "      <td>-</td>\n",
              "      <td>-</td>\n",
              "      <td>https://web.archive.org/web/20221222203930/ht...</td>\n",
              "      <td>https://web.archive.org/web/20221222203930/ht...</td>\n",
              "      <td>https://web.archive.org/web/20230107232745/ht...</td>\n",
              "      <td>NaN</td>\n",
              "      <td>NaN</td>\n",
              "      <td>NaN</td>\n",
              "      <td>NaN</td>\n",
              "      <td>NaN</td>\n",
              "    </tr>\n",
              "    <tr>\n",
              "      <th>3</th>\n",
              "      <td>291.0</td>\n",
              "      <td>2022.0</td>\n",
              "      <td>12/22/2022</td>\n",
              "      <td>USA</td>\n",
              "      <td>GA</td>\n",
              "      <td>Tesla crashes and burns</td>\n",
              "      <td>1.0</td>\n",
              "      <td>1</td>\n",
              "      <td>-</td>\n",
              "      <td>-</td>\n",
              "      <td>...</td>\n",
              "      <td>-</td>\n",
              "      <td>-</td>\n",
              "      <td>https://web.archive.org/web/20221222203930/ht...</td>\n",
              "      <td>https://web.archive.org/web/20221222203930/ht...</td>\n",
              "      <td>https://web.archive.org/web/20221222203930/ht...</td>\n",
              "      <td>NaN</td>\n",
              "      <td>NaN</td>\n",
              "      <td>NaN</td>\n",
              "      <td>NaN</td>\n",
              "      <td>NaN</td>\n",
              "    </tr>\n",
              "    <tr>\n",
              "      <th>4</th>\n",
              "      <td>290.0</td>\n",
              "      <td>2022.0</td>\n",
              "      <td>12/19/2022</td>\n",
              "      <td>Canada</td>\n",
              "      <td>-</td>\n",
              "      <td>Tesla crashes into storefront</td>\n",
              "      <td>1.0</td>\n",
              "      <td>-</td>\n",
              "      <td>-</td>\n",
              "      <td>-</td>\n",
              "      <td>...</td>\n",
              "      <td>-</td>\n",
              "      <td>-</td>\n",
              "      <td>https://web.archive.org/web/20221223203725/ht...</td>\n",
              "      <td>https://web.archive.org/web/20221223203725/ht...</td>\n",
              "      <td>https://web.archive.org/web/20221223203725/ht...</td>\n",
              "      <td>NaN</td>\n",
              "      <td>NaN</td>\n",
              "      <td>NaN</td>\n",
              "      <td>NaN</td>\n",
              "      <td>NaN</td>\n",
              "    </tr>\n",
              "  </tbody>\n",
              "</table>\n",
              "<p>5 rows × 24 columns</p>\n",
              "</div>\n",
              "    <div class=\"colab-df-buttons\">\n",
              "\n",
              "  <div class=\"colab-df-container\">\n",
              "    <button class=\"colab-df-convert\" onclick=\"convertToInteractive('df-9a6e4d3b-9b89-4a3f-bdbd-d02cbdae592f')\"\n",
              "            title=\"Convert this dataframe to an interactive table.\"\n",
              "            style=\"display:none;\">\n",
              "\n",
              "  <svg xmlns=\"http://www.w3.org/2000/svg\" height=\"24px\" viewBox=\"0 -960 960 960\">\n",
              "    <path d=\"M120-120v-720h720v720H120Zm60-500h600v-160H180v160Zm220 220h160v-160H400v160Zm0 220h160v-160H400v160ZM180-400h160v-160H180v160Zm440 0h160v-160H620v160ZM180-180h160v-160H180v160Zm440 0h160v-160H620v160Z\"/>\n",
              "  </svg>\n",
              "    </button>\n",
              "\n",
              "  <style>\n",
              "    .colab-df-container {\n",
              "      display:flex;\n",
              "      gap: 12px;\n",
              "    }\n",
              "\n",
              "    .colab-df-convert {\n",
              "      background-color: #E8F0FE;\n",
              "      border: none;\n",
              "      border-radius: 50%;\n",
              "      cursor: pointer;\n",
              "      display: none;\n",
              "      fill: #1967D2;\n",
              "      height: 32px;\n",
              "      padding: 0 0 0 0;\n",
              "      width: 32px;\n",
              "    }\n",
              "\n",
              "    .colab-df-convert:hover {\n",
              "      background-color: #E2EBFA;\n",
              "      box-shadow: 0px 1px 2px rgba(60, 64, 67, 0.3), 0px 1px 3px 1px rgba(60, 64, 67, 0.15);\n",
              "      fill: #174EA6;\n",
              "    }\n",
              "\n",
              "    .colab-df-buttons div {\n",
              "      margin-bottom: 4px;\n",
              "    }\n",
              "\n",
              "    [theme=dark] .colab-df-convert {\n",
              "      background-color: #3B4455;\n",
              "      fill: #D2E3FC;\n",
              "    }\n",
              "\n",
              "    [theme=dark] .colab-df-convert:hover {\n",
              "      background-color: #434B5C;\n",
              "      box-shadow: 0px 1px 3px 1px rgba(0, 0, 0, 0.15);\n",
              "      filter: drop-shadow(0px 1px 2px rgba(0, 0, 0, 0.3));\n",
              "      fill: #FFFFFF;\n",
              "    }\n",
              "  </style>\n",
              "\n",
              "    <script>\n",
              "      const buttonEl =\n",
              "        document.querySelector('#df-9a6e4d3b-9b89-4a3f-bdbd-d02cbdae592f button.colab-df-convert');\n",
              "      buttonEl.style.display =\n",
              "        google.colab.kernel.accessAllowed ? 'block' : 'none';\n",
              "\n",
              "      async function convertToInteractive(key) {\n",
              "        const element = document.querySelector('#df-9a6e4d3b-9b89-4a3f-bdbd-d02cbdae592f');\n",
              "        const dataTable =\n",
              "          await google.colab.kernel.invokeFunction('convertToInteractive',\n",
              "                                                    [key], {});\n",
              "        if (!dataTable) return;\n",
              "\n",
              "        const docLinkHtml = 'Like what you see? Visit the ' +\n",
              "          '<a target=\"_blank\" href=https://colab.research.google.com/notebooks/data_table.ipynb>data table notebook</a>'\n",
              "          + ' to learn more about interactive tables.';\n",
              "        element.innerHTML = '';\n",
              "        dataTable['output_type'] = 'display_data';\n",
              "        await google.colab.output.renderOutput(dataTable, element);\n",
              "        const docLink = document.createElement('div');\n",
              "        docLink.innerHTML = docLinkHtml;\n",
              "        element.appendChild(docLink);\n",
              "      }\n",
              "    </script>\n",
              "  </div>\n",
              "\n",
              "\n",
              "<div id=\"df-ff05aa7d-3fbf-4eb6-a129-112e6c8e6033\">\n",
              "  <button class=\"colab-df-quickchart\" onclick=\"quickchart('df-ff05aa7d-3fbf-4eb6-a129-112e6c8e6033')\"\n",
              "            title=\"Suggest charts\"\n",
              "            style=\"display:none;\">\n",
              "\n",
              "<svg xmlns=\"http://www.w3.org/2000/svg\" height=\"24px\"viewBox=\"0 0 24 24\"\n",
              "     width=\"24px\">\n",
              "    <g>\n",
              "        <path d=\"M19 3H5c-1.1 0-2 .9-2 2v14c0 1.1.9 2 2 2h14c1.1 0 2-.9 2-2V5c0-1.1-.9-2-2-2zM9 17H7v-7h2v7zm4 0h-2V7h2v10zm4 0h-2v-4h2v4z\"/>\n",
              "    </g>\n",
              "</svg>\n",
              "  </button>\n",
              "\n",
              "<style>\n",
              "  .colab-df-quickchart {\n",
              "      --bg-color: #E8F0FE;\n",
              "      --fill-color: #1967D2;\n",
              "      --hover-bg-color: #E2EBFA;\n",
              "      --hover-fill-color: #174EA6;\n",
              "      --disabled-fill-color: #AAA;\n",
              "      --disabled-bg-color: #DDD;\n",
              "  }\n",
              "\n",
              "  [theme=dark] .colab-df-quickchart {\n",
              "      --bg-color: #3B4455;\n",
              "      --fill-color: #D2E3FC;\n",
              "      --hover-bg-color: #434B5C;\n",
              "      --hover-fill-color: #FFFFFF;\n",
              "      --disabled-bg-color: #3B4455;\n",
              "      --disabled-fill-color: #666;\n",
              "  }\n",
              "\n",
              "  .colab-df-quickchart {\n",
              "    background-color: var(--bg-color);\n",
              "    border: none;\n",
              "    border-radius: 50%;\n",
              "    cursor: pointer;\n",
              "    display: none;\n",
              "    fill: var(--fill-color);\n",
              "    height: 32px;\n",
              "    padding: 0;\n",
              "    width: 32px;\n",
              "  }\n",
              "\n",
              "  .colab-df-quickchart:hover {\n",
              "    background-color: var(--hover-bg-color);\n",
              "    box-shadow: 0 1px 2px rgba(60, 64, 67, 0.3), 0 1px 3px 1px rgba(60, 64, 67, 0.15);\n",
              "    fill: var(--button-hover-fill-color);\n",
              "  }\n",
              "\n",
              "  .colab-df-quickchart-complete:disabled,\n",
              "  .colab-df-quickchart-complete:disabled:hover {\n",
              "    background-color: var(--disabled-bg-color);\n",
              "    fill: var(--disabled-fill-color);\n",
              "    box-shadow: none;\n",
              "  }\n",
              "\n",
              "  .colab-df-spinner {\n",
              "    border: 2px solid var(--fill-color);\n",
              "    border-color: transparent;\n",
              "    border-bottom-color: var(--fill-color);\n",
              "    animation:\n",
              "      spin 1s steps(1) infinite;\n",
              "  }\n",
              "\n",
              "  @keyframes spin {\n",
              "    0% {\n",
              "      border-color: transparent;\n",
              "      border-bottom-color: var(--fill-color);\n",
              "      border-left-color: var(--fill-color);\n",
              "    }\n",
              "    20% {\n",
              "      border-color: transparent;\n",
              "      border-left-color: var(--fill-color);\n",
              "      border-top-color: var(--fill-color);\n",
              "    }\n",
              "    30% {\n",
              "      border-color: transparent;\n",
              "      border-left-color: var(--fill-color);\n",
              "      border-top-color: var(--fill-color);\n",
              "      border-right-color: var(--fill-color);\n",
              "    }\n",
              "    40% {\n",
              "      border-color: transparent;\n",
              "      border-right-color: var(--fill-color);\n",
              "      border-top-color: var(--fill-color);\n",
              "    }\n",
              "    60% {\n",
              "      border-color: transparent;\n",
              "      border-right-color: var(--fill-color);\n",
              "    }\n",
              "    80% {\n",
              "      border-color: transparent;\n",
              "      border-right-color: var(--fill-color);\n",
              "      border-bottom-color: var(--fill-color);\n",
              "    }\n",
              "    90% {\n",
              "      border-color: transparent;\n",
              "      border-bottom-color: var(--fill-color);\n",
              "    }\n",
              "  }\n",
              "</style>\n",
              "\n",
              "  <script>\n",
              "    async function quickchart(key) {\n",
              "      const quickchartButtonEl =\n",
              "        document.querySelector('#' + key + ' button');\n",
              "      quickchartButtonEl.disabled = true;  // To prevent multiple clicks.\n",
              "      quickchartButtonEl.classList.add('colab-df-spinner');\n",
              "      try {\n",
              "        const charts = await google.colab.kernel.invokeFunction(\n",
              "            'suggestCharts', [key], {});\n",
              "      } catch (error) {\n",
              "        console.error('Error during call to suggestCharts:', error);\n",
              "      }\n",
              "      quickchartButtonEl.classList.remove('colab-df-spinner');\n",
              "      quickchartButtonEl.classList.add('colab-df-quickchart-complete');\n",
              "    }\n",
              "    (() => {\n",
              "      let quickchartButtonEl =\n",
              "        document.querySelector('#df-ff05aa7d-3fbf-4eb6-a129-112e6c8e6033 button');\n",
              "      quickchartButtonEl.style.display =\n",
              "        google.colab.kernel.accessAllowed ? 'block' : 'none';\n",
              "    })();\n",
              "  </script>\n",
              "</div>\n",
              "\n",
              "    </div>\n",
              "  </div>\n"
            ],
            "application/vnd.google.colaboratory.intrinsic+json": {
              "type": "dataframe",
              "variable_name": "data"
            }
          },
          "metadata": {},
          "execution_count": 4
        }
      ]
    },
    {
      "cell_type": "code",
      "source": [
        "data.shape"
      ],
      "metadata": {
        "colab": {
          "base_uri": "https://localhost:8080/"
        },
        "id": "Y72TN2x9cUHJ",
        "outputId": "ae504c5a-4cc1-4f32-ea3d-82bc3116e05b"
      },
      "execution_count": null,
      "outputs": [
        {
          "output_type": "execute_result",
          "data": {
            "text/plain": [
              "(307, 24)"
            ]
          },
          "metadata": {},
          "execution_count": 5
        }
      ]
    },
    {
      "cell_type": "markdown",
      "source": [
        "## Checking for data types and missing values"
      ],
      "metadata": {
        "id": "TNcRmZTqvYGF"
      }
    },
    {
      "cell_type": "code",
      "source": [
        "data.info()"
      ],
      "metadata": {
        "colab": {
          "base_uri": "https://localhost:8080/"
        },
        "id": "zRpJe40kRNpY",
        "outputId": "6270d1f1-7b65-4dd2-e07f-7299c3cbdef0"
      },
      "execution_count": null,
      "outputs": [
        {
          "output_type": "stream",
          "name": "stdout",
          "text": [
            "<class 'pandas.core.frame.DataFrame'>\n",
            "RangeIndex: 307 entries, 0 to 306\n",
            "Data columns (total 24 columns):\n",
            " #   Column                                                                Non-Null Count  Dtype  \n",
            "---  ------                                                                --------------  -----  \n",
            " 0   Case #                                                                294 non-null    float64\n",
            " 1   Year                                                                  294 non-null    float64\n",
            " 2   Date                                                                  294 non-null    object \n",
            " 3    Country                                                              294 non-null    object \n",
            " 4    State                                                                294 non-null    object \n",
            " 5    Description                                                          295 non-null    object \n",
            " 6    Deaths                                                               299 non-null    float64\n",
            " 7    Tesla driver                                                         294 non-null    object \n",
            " 8    Tesla occupant                                                       290 non-null    object \n",
            " 9    Other vehicle                                                        295 non-null    object \n",
            " 10   Cyclists/ Peds                                                       296 non-null    object \n",
            " 11   TSLA+cycl / peds                                                     297 non-null    object \n",
            " 12   Model                                                                296 non-null    object \n",
            " 13   Autopilot claimed                                                    281 non-null    object \n",
            " 14   Verified Tesla Autopilot Deaths                                      297 non-null    object \n",
            " 15   Verified Tesla Autopilot Deaths + All Deaths Reported to NHTSA SGO   296 non-null    object \n",
            " 16  Unnamed: 16                                                           292 non-null    object \n",
            " 17  Unnamed: 17                                                           289 non-null    object \n",
            " 18   Source                                                               297 non-null    object \n",
            " 19   Note                                                                 9 non-null      object \n",
            " 20   Deceased 1                                                           87 non-null     object \n",
            " 21   Deceased 2                                                           17 non-null     object \n",
            " 22   Deceased 3                                                           4 non-null      object \n",
            " 23   Deceased 4                                                           0 non-null      float64\n",
            "dtypes: float64(4), object(20)\n",
            "memory usage: 57.7+ KB\n"
          ]
        }
      ]
    },
    {
      "cell_type": "code",
      "source": [
        "data.describe()"
      ],
      "metadata": {
        "colab": {
          "base_uri": "https://localhost:8080/",
          "height": 300
        },
        "id": "y1J915dYTSD_",
        "outputId": "7695177f-3675-42c6-a4ec-3935e4aa6c26"
      },
      "execution_count": null,
      "outputs": [
        {
          "output_type": "execute_result",
          "data": {
            "text/plain": [
              "           Case #         Year      Deaths    Deceased 4 \n",
              "count  294.000000   294.000000   299.000000           0.0\n",
              "mean   147.500000  2013.850340    10.284281           NaN\n",
              "std     85.014705   106.050207   119.032014           NaN\n",
              "min      1.000000   202.000000     1.000000           NaN\n",
              "25%     74.250000  2019.000000     1.000000           NaN\n",
              "50%    147.500000  2021.000000     1.000000           NaN\n",
              "75%    220.750000  2022.000000     1.000000           NaN\n",
              "max    294.000000  2022.000000  2013.000000           NaN"
            ],
            "text/html": [
              "\n",
              "  <div id=\"df-bd48036a-cba7-41b6-b246-4c9db802b89c\" class=\"colab-df-container\">\n",
              "    <div>\n",
              "<style scoped>\n",
              "    .dataframe tbody tr th:only-of-type {\n",
              "        vertical-align: middle;\n",
              "    }\n",
              "\n",
              "    .dataframe tbody tr th {\n",
              "        vertical-align: top;\n",
              "    }\n",
              "\n",
              "    .dataframe thead th {\n",
              "        text-align: right;\n",
              "    }\n",
              "</style>\n",
              "<table border=\"1\" class=\"dataframe\">\n",
              "  <thead>\n",
              "    <tr style=\"text-align: right;\">\n",
              "      <th></th>\n",
              "      <th>Case #</th>\n",
              "      <th>Year</th>\n",
              "      <th>Deaths</th>\n",
              "      <th>Deceased 4</th>\n",
              "    </tr>\n",
              "  </thead>\n",
              "  <tbody>\n",
              "    <tr>\n",
              "      <th>count</th>\n",
              "      <td>294.000000</td>\n",
              "      <td>294.000000</td>\n",
              "      <td>299.000000</td>\n",
              "      <td>0.0</td>\n",
              "    </tr>\n",
              "    <tr>\n",
              "      <th>mean</th>\n",
              "      <td>147.500000</td>\n",
              "      <td>2013.850340</td>\n",
              "      <td>10.284281</td>\n",
              "      <td>NaN</td>\n",
              "    </tr>\n",
              "    <tr>\n",
              "      <th>std</th>\n",
              "      <td>85.014705</td>\n",
              "      <td>106.050207</td>\n",
              "      <td>119.032014</td>\n",
              "      <td>NaN</td>\n",
              "    </tr>\n",
              "    <tr>\n",
              "      <th>min</th>\n",
              "      <td>1.000000</td>\n",
              "      <td>202.000000</td>\n",
              "      <td>1.000000</td>\n",
              "      <td>NaN</td>\n",
              "    </tr>\n",
              "    <tr>\n",
              "      <th>25%</th>\n",
              "      <td>74.250000</td>\n",
              "      <td>2019.000000</td>\n",
              "      <td>1.000000</td>\n",
              "      <td>NaN</td>\n",
              "    </tr>\n",
              "    <tr>\n",
              "      <th>50%</th>\n",
              "      <td>147.500000</td>\n",
              "      <td>2021.000000</td>\n",
              "      <td>1.000000</td>\n",
              "      <td>NaN</td>\n",
              "    </tr>\n",
              "    <tr>\n",
              "      <th>75%</th>\n",
              "      <td>220.750000</td>\n",
              "      <td>2022.000000</td>\n",
              "      <td>1.000000</td>\n",
              "      <td>NaN</td>\n",
              "    </tr>\n",
              "    <tr>\n",
              "      <th>max</th>\n",
              "      <td>294.000000</td>\n",
              "      <td>2022.000000</td>\n",
              "      <td>2013.000000</td>\n",
              "      <td>NaN</td>\n",
              "    </tr>\n",
              "  </tbody>\n",
              "</table>\n",
              "</div>\n",
              "    <div class=\"colab-df-buttons\">\n",
              "\n",
              "  <div class=\"colab-df-container\">\n",
              "    <button class=\"colab-df-convert\" onclick=\"convertToInteractive('df-bd48036a-cba7-41b6-b246-4c9db802b89c')\"\n",
              "            title=\"Convert this dataframe to an interactive table.\"\n",
              "            style=\"display:none;\">\n",
              "\n",
              "  <svg xmlns=\"http://www.w3.org/2000/svg\" height=\"24px\" viewBox=\"0 -960 960 960\">\n",
              "    <path d=\"M120-120v-720h720v720H120Zm60-500h600v-160H180v160Zm220 220h160v-160H400v160Zm0 220h160v-160H400v160ZM180-400h160v-160H180v160Zm440 0h160v-160H620v160ZM180-180h160v-160H180v160Zm440 0h160v-160H620v160Z\"/>\n",
              "  </svg>\n",
              "    </button>\n",
              "\n",
              "  <style>\n",
              "    .colab-df-container {\n",
              "      display:flex;\n",
              "      gap: 12px;\n",
              "    }\n",
              "\n",
              "    .colab-df-convert {\n",
              "      background-color: #E8F0FE;\n",
              "      border: none;\n",
              "      border-radius: 50%;\n",
              "      cursor: pointer;\n",
              "      display: none;\n",
              "      fill: #1967D2;\n",
              "      height: 32px;\n",
              "      padding: 0 0 0 0;\n",
              "      width: 32px;\n",
              "    }\n",
              "\n",
              "    .colab-df-convert:hover {\n",
              "      background-color: #E2EBFA;\n",
              "      box-shadow: 0px 1px 2px rgba(60, 64, 67, 0.3), 0px 1px 3px 1px rgba(60, 64, 67, 0.15);\n",
              "      fill: #174EA6;\n",
              "    }\n",
              "\n",
              "    .colab-df-buttons div {\n",
              "      margin-bottom: 4px;\n",
              "    }\n",
              "\n",
              "    [theme=dark] .colab-df-convert {\n",
              "      background-color: #3B4455;\n",
              "      fill: #D2E3FC;\n",
              "    }\n",
              "\n",
              "    [theme=dark] .colab-df-convert:hover {\n",
              "      background-color: #434B5C;\n",
              "      box-shadow: 0px 1px 3px 1px rgba(0, 0, 0, 0.15);\n",
              "      filter: drop-shadow(0px 1px 2px rgba(0, 0, 0, 0.3));\n",
              "      fill: #FFFFFF;\n",
              "    }\n",
              "  </style>\n",
              "\n",
              "    <script>\n",
              "      const buttonEl =\n",
              "        document.querySelector('#df-bd48036a-cba7-41b6-b246-4c9db802b89c button.colab-df-convert');\n",
              "      buttonEl.style.display =\n",
              "        google.colab.kernel.accessAllowed ? 'block' : 'none';\n",
              "\n",
              "      async function convertToInteractive(key) {\n",
              "        const element = document.querySelector('#df-bd48036a-cba7-41b6-b246-4c9db802b89c');\n",
              "        const dataTable =\n",
              "          await google.colab.kernel.invokeFunction('convertToInteractive',\n",
              "                                                    [key], {});\n",
              "        if (!dataTable) return;\n",
              "\n",
              "        const docLinkHtml = 'Like what you see? Visit the ' +\n",
              "          '<a target=\"_blank\" href=https://colab.research.google.com/notebooks/data_table.ipynb>data table notebook</a>'\n",
              "          + ' to learn more about interactive tables.';\n",
              "        element.innerHTML = '';\n",
              "        dataTable['output_type'] = 'display_data';\n",
              "        await google.colab.output.renderOutput(dataTable, element);\n",
              "        const docLink = document.createElement('div');\n",
              "        docLink.innerHTML = docLinkHtml;\n",
              "        element.appendChild(docLink);\n",
              "      }\n",
              "    </script>\n",
              "  </div>\n",
              "\n",
              "\n",
              "<div id=\"df-2aaf5044-734c-4250-8a86-0710b7e7fa7f\">\n",
              "  <button class=\"colab-df-quickchart\" onclick=\"quickchart('df-2aaf5044-734c-4250-8a86-0710b7e7fa7f')\"\n",
              "            title=\"Suggest charts\"\n",
              "            style=\"display:none;\">\n",
              "\n",
              "<svg xmlns=\"http://www.w3.org/2000/svg\" height=\"24px\"viewBox=\"0 0 24 24\"\n",
              "     width=\"24px\">\n",
              "    <g>\n",
              "        <path d=\"M19 3H5c-1.1 0-2 .9-2 2v14c0 1.1.9 2 2 2h14c1.1 0 2-.9 2-2V5c0-1.1-.9-2-2-2zM9 17H7v-7h2v7zm4 0h-2V7h2v10zm4 0h-2v-4h2v4z\"/>\n",
              "    </g>\n",
              "</svg>\n",
              "  </button>\n",
              "\n",
              "<style>\n",
              "  .colab-df-quickchart {\n",
              "      --bg-color: #E8F0FE;\n",
              "      --fill-color: #1967D2;\n",
              "      --hover-bg-color: #E2EBFA;\n",
              "      --hover-fill-color: #174EA6;\n",
              "      --disabled-fill-color: #AAA;\n",
              "      --disabled-bg-color: #DDD;\n",
              "  }\n",
              "\n",
              "  [theme=dark] .colab-df-quickchart {\n",
              "      --bg-color: #3B4455;\n",
              "      --fill-color: #D2E3FC;\n",
              "      --hover-bg-color: #434B5C;\n",
              "      --hover-fill-color: #FFFFFF;\n",
              "      --disabled-bg-color: #3B4455;\n",
              "      --disabled-fill-color: #666;\n",
              "  }\n",
              "\n",
              "  .colab-df-quickchart {\n",
              "    background-color: var(--bg-color);\n",
              "    border: none;\n",
              "    border-radius: 50%;\n",
              "    cursor: pointer;\n",
              "    display: none;\n",
              "    fill: var(--fill-color);\n",
              "    height: 32px;\n",
              "    padding: 0;\n",
              "    width: 32px;\n",
              "  }\n",
              "\n",
              "  .colab-df-quickchart:hover {\n",
              "    background-color: var(--hover-bg-color);\n",
              "    box-shadow: 0 1px 2px rgba(60, 64, 67, 0.3), 0 1px 3px 1px rgba(60, 64, 67, 0.15);\n",
              "    fill: var(--button-hover-fill-color);\n",
              "  }\n",
              "\n",
              "  .colab-df-quickchart-complete:disabled,\n",
              "  .colab-df-quickchart-complete:disabled:hover {\n",
              "    background-color: var(--disabled-bg-color);\n",
              "    fill: var(--disabled-fill-color);\n",
              "    box-shadow: none;\n",
              "  }\n",
              "\n",
              "  .colab-df-spinner {\n",
              "    border: 2px solid var(--fill-color);\n",
              "    border-color: transparent;\n",
              "    border-bottom-color: var(--fill-color);\n",
              "    animation:\n",
              "      spin 1s steps(1) infinite;\n",
              "  }\n",
              "\n",
              "  @keyframes spin {\n",
              "    0% {\n",
              "      border-color: transparent;\n",
              "      border-bottom-color: var(--fill-color);\n",
              "      border-left-color: var(--fill-color);\n",
              "    }\n",
              "    20% {\n",
              "      border-color: transparent;\n",
              "      border-left-color: var(--fill-color);\n",
              "      border-top-color: var(--fill-color);\n",
              "    }\n",
              "    30% {\n",
              "      border-color: transparent;\n",
              "      border-left-color: var(--fill-color);\n",
              "      border-top-color: var(--fill-color);\n",
              "      border-right-color: var(--fill-color);\n",
              "    }\n",
              "    40% {\n",
              "      border-color: transparent;\n",
              "      border-right-color: var(--fill-color);\n",
              "      border-top-color: var(--fill-color);\n",
              "    }\n",
              "    60% {\n",
              "      border-color: transparent;\n",
              "      border-right-color: var(--fill-color);\n",
              "    }\n",
              "    80% {\n",
              "      border-color: transparent;\n",
              "      border-right-color: var(--fill-color);\n",
              "      border-bottom-color: var(--fill-color);\n",
              "    }\n",
              "    90% {\n",
              "      border-color: transparent;\n",
              "      border-bottom-color: var(--fill-color);\n",
              "    }\n",
              "  }\n",
              "</style>\n",
              "\n",
              "  <script>\n",
              "    async function quickchart(key) {\n",
              "      const quickchartButtonEl =\n",
              "        document.querySelector('#' + key + ' button');\n",
              "      quickchartButtonEl.disabled = true;  // To prevent multiple clicks.\n",
              "      quickchartButtonEl.classList.add('colab-df-spinner');\n",
              "      try {\n",
              "        const charts = await google.colab.kernel.invokeFunction(\n",
              "            'suggestCharts', [key], {});\n",
              "      } catch (error) {\n",
              "        console.error('Error during call to suggestCharts:', error);\n",
              "      }\n",
              "      quickchartButtonEl.classList.remove('colab-df-spinner');\n",
              "      quickchartButtonEl.classList.add('colab-df-quickchart-complete');\n",
              "    }\n",
              "    (() => {\n",
              "      let quickchartButtonEl =\n",
              "        document.querySelector('#df-2aaf5044-734c-4250-8a86-0710b7e7fa7f button');\n",
              "      quickchartButtonEl.style.display =\n",
              "        google.colab.kernel.accessAllowed ? 'block' : 'none';\n",
              "    })();\n",
              "  </script>\n",
              "</div>\n",
              "\n",
              "    </div>\n",
              "  </div>\n"
            ],
            "application/vnd.google.colaboratory.intrinsic+json": {
              "type": "dataframe",
              "summary": "{\n  \"name\": \"data\",\n  \"rows\": 8,\n  \"fields\": [\n    {\n      \"column\": \"Case #\",\n      \"properties\": {\n        \"dtype\": \"number\",\n        \"std\": 105.6544085457552,\n        \"min\": 1.0,\n        \"max\": 294.0,\n        \"num_unique_values\": 6,\n        \"samples\": [\n          294.0,\n          147.5,\n          220.75\n        ],\n        \"semantic_type\": \"\",\n        \"description\": \"\"\n      }\n    },\n    {\n      \"column\": \"Year\",\n      \"properties\": {\n        \"dtype\": \"number\",\n        \"std\": 942.706277034162,\n        \"min\": 106.05020729569888,\n        \"max\": 2022.0,\n        \"num_unique_values\": 7,\n        \"samples\": [\n          294.0,\n          2013.8503401360545,\n          2021.0\n        ],\n        \"semantic_type\": \"\",\n        \"description\": \"\"\n      }\n    },\n    {\n      \"column\": \" Deaths \",\n      \"properties\": {\n        \"dtype\": \"number\",\n        \"std\": 697.792633356392,\n        \"min\": 1.0,\n        \"max\": 2013.0,\n        \"num_unique_values\": 5,\n        \"samples\": [\n          10.284280936454849,\n          2013.0,\n          119.03201357381796\n        ],\n        \"semantic_type\": \"\",\n        \"description\": \"\"\n      }\n    },\n    {\n      \"column\": \" Deceased 4 \",\n      \"properties\": {\n        \"dtype\": \"number\",\n        \"std\": null,\n        \"min\": 0.0,\n        \"max\": 0.0,\n        \"num_unique_values\": 1,\n        \"samples\": [\n          0.0\n        ],\n        \"semantic_type\": \"\",\n        \"description\": \"\"\n      }\n    }\n  ]\n}"
            }
          },
          "metadata": {},
          "execution_count": 7
        }
      ]
    },
    {
      "cell_type": "code",
      "source": [
        "data.isna().sum()"
      ],
      "metadata": {
        "colab": {
          "base_uri": "https://localhost:8080/",
          "height": 837
        },
        "id": "dr_DWDIUTSAi",
        "outputId": "9d858536-995a-4476-f097-0bc886734084"
      },
      "execution_count": null,
      "outputs": [
        {
          "output_type": "execute_result",
          "data": {
            "text/plain": [
              "Case #                                                                   13\n",
              "Year                                                                     13\n",
              "Date                                                                     13\n",
              " Country                                                                 13\n",
              " State                                                                   13\n",
              " Description                                                             12\n",
              " Deaths                                                                   8\n",
              " Tesla driver                                                            13\n",
              " Tesla occupant                                                          17\n",
              " Other vehicle                                                           12\n",
              " Cyclists/ Peds                                                          11\n",
              " TSLA+cycl / peds                                                        10\n",
              " Model                                                                   11\n",
              " Autopilot claimed                                                       26\n",
              " Verified Tesla Autopilot Deaths                                         10\n",
              " Verified Tesla Autopilot Deaths + All Deaths Reported to NHTSA SGO      11\n",
              "Unnamed: 16                                                              15\n",
              "Unnamed: 17                                                              18\n",
              " Source                                                                  10\n",
              " Note                                                                   298\n",
              " Deceased 1                                                             220\n",
              " Deceased 2                                                             290\n",
              " Deceased 3                                                             303\n",
              " Deceased 4                                                             307\n",
              "dtype: int64"
            ],
            "text/html": [
              "<div>\n",
              "<style scoped>\n",
              "    .dataframe tbody tr th:only-of-type {\n",
              "        vertical-align: middle;\n",
              "    }\n",
              "\n",
              "    .dataframe tbody tr th {\n",
              "        vertical-align: top;\n",
              "    }\n",
              "\n",
              "    .dataframe thead th {\n",
              "        text-align: right;\n",
              "    }\n",
              "</style>\n",
              "<table border=\"1\" class=\"dataframe\">\n",
              "  <thead>\n",
              "    <tr style=\"text-align: right;\">\n",
              "      <th></th>\n",
              "      <th>0</th>\n",
              "    </tr>\n",
              "  </thead>\n",
              "  <tbody>\n",
              "    <tr>\n",
              "      <th>Case #</th>\n",
              "      <td>13</td>\n",
              "    </tr>\n",
              "    <tr>\n",
              "      <th>Year</th>\n",
              "      <td>13</td>\n",
              "    </tr>\n",
              "    <tr>\n",
              "      <th>Date</th>\n",
              "      <td>13</td>\n",
              "    </tr>\n",
              "    <tr>\n",
              "      <th>Country</th>\n",
              "      <td>13</td>\n",
              "    </tr>\n",
              "    <tr>\n",
              "      <th>State</th>\n",
              "      <td>13</td>\n",
              "    </tr>\n",
              "    <tr>\n",
              "      <th>Description</th>\n",
              "      <td>12</td>\n",
              "    </tr>\n",
              "    <tr>\n",
              "      <th>Deaths</th>\n",
              "      <td>8</td>\n",
              "    </tr>\n",
              "    <tr>\n",
              "      <th>Tesla driver</th>\n",
              "      <td>13</td>\n",
              "    </tr>\n",
              "    <tr>\n",
              "      <th>Tesla occupant</th>\n",
              "      <td>17</td>\n",
              "    </tr>\n",
              "    <tr>\n",
              "      <th>Other vehicle</th>\n",
              "      <td>12</td>\n",
              "    </tr>\n",
              "    <tr>\n",
              "      <th>Cyclists/ Peds</th>\n",
              "      <td>11</td>\n",
              "    </tr>\n",
              "    <tr>\n",
              "      <th>TSLA+cycl / peds</th>\n",
              "      <td>10</td>\n",
              "    </tr>\n",
              "    <tr>\n",
              "      <th>Model</th>\n",
              "      <td>11</td>\n",
              "    </tr>\n",
              "    <tr>\n",
              "      <th>Autopilot claimed</th>\n",
              "      <td>26</td>\n",
              "    </tr>\n",
              "    <tr>\n",
              "      <th>Verified Tesla Autopilot Deaths</th>\n",
              "      <td>10</td>\n",
              "    </tr>\n",
              "    <tr>\n",
              "      <th>Verified Tesla Autopilot Deaths + All Deaths Reported to NHTSA SGO</th>\n",
              "      <td>11</td>\n",
              "    </tr>\n",
              "    <tr>\n",
              "      <th>Unnamed: 16</th>\n",
              "      <td>15</td>\n",
              "    </tr>\n",
              "    <tr>\n",
              "      <th>Unnamed: 17</th>\n",
              "      <td>18</td>\n",
              "    </tr>\n",
              "    <tr>\n",
              "      <th>Source</th>\n",
              "      <td>10</td>\n",
              "    </tr>\n",
              "    <tr>\n",
              "      <th>Note</th>\n",
              "      <td>298</td>\n",
              "    </tr>\n",
              "    <tr>\n",
              "      <th>Deceased 1</th>\n",
              "      <td>220</td>\n",
              "    </tr>\n",
              "    <tr>\n",
              "      <th>Deceased 2</th>\n",
              "      <td>290</td>\n",
              "    </tr>\n",
              "    <tr>\n",
              "      <th>Deceased 3</th>\n",
              "      <td>303</td>\n",
              "    </tr>\n",
              "    <tr>\n",
              "      <th>Deceased 4</th>\n",
              "      <td>307</td>\n",
              "    </tr>\n",
              "  </tbody>\n",
              "</table>\n",
              "</div><br><label><b>dtype:</b> int64</label>"
            ]
          },
          "metadata": {},
          "execution_count": 8
        }
      ]
    },
    {
      "cell_type": "code",
      "source": [
        "data.columns"
      ],
      "metadata": {
        "colab": {
          "base_uri": "https://localhost:8080/"
        },
        "id": "eNvUJ3xFTR9I",
        "outputId": "7779138a-6ef4-445d-bf03-2b2f022df5a0"
      },
      "execution_count": null,
      "outputs": [
        {
          "output_type": "execute_result",
          "data": {
            "text/plain": [
              "Index(['Case #', 'Year', 'Date', ' Country ', ' State ', ' Description ',\n",
              "       ' Deaths ', ' Tesla driver ', ' Tesla occupant ', ' Other vehicle ',\n",
              "       ' Cyclists/ Peds ', ' TSLA+cycl / peds ', ' Model ',\n",
              "       ' Autopilot claimed ', ' Verified Tesla Autopilot Deaths ',\n",
              "       ' Verified Tesla Autopilot Deaths + All Deaths Reported to NHTSA SGO ',\n",
              "       'Unnamed: 16', 'Unnamed: 17', ' Source ', ' Note ', ' Deceased 1 ',\n",
              "       ' Deceased 2 ', ' Deceased 3 ', ' Deceased 4 '],\n",
              "      dtype='object')"
            ]
          },
          "metadata": {},
          "execution_count": 9
        }
      ]
    },
    {
      "cell_type": "markdown",
      "source": [
        "## Droping non_essential columns"
      ],
      "metadata": {
        "id": "3c1X-jOMv0Rb"
      }
    },
    {
      "cell_type": "code",
      "source": [
        "drop_colms=['Case #', 'Year','Unnamed: 16', 'Unnamed: 17', ' Source ', ' Note ', ' Deceased 1 ',\n",
        "       ' Deceased 2 ', ' Deceased 3 ', ' Deceased 4 ',' Verified Tesla Autopilot Deaths + All Deaths Reported to NHTSA SGO ']\n",
        "\n",
        "data.drop(columns= drop_colms, inplace= True)"
      ],
      "metadata": {
        "id": "k1UvBmNJoW79"
      },
      "execution_count": null,
      "outputs": []
    },
    {
      "cell_type": "code",
      "source": [
        "data"
      ],
      "metadata": {
        "colab": {
          "base_uri": "https://localhost:8080/",
          "height": 545
        },
        "id": "gk4mSPzuoW5r",
        "outputId": "ceaa9a5a-fc97-42e7-ef66-b71b4ad7b061"
      },
      "execution_count": null,
      "outputs": [
        {
          "output_type": "execute_result",
          "data": {
            "text/plain": [
              "           Date  Country   State                              Description   \\\n",
              "0     1/17/2023      USA       CA         Tesla crashes into back of semi    \n",
              "1      1/7/2023   Canada        -                           Tesla crashes    \n",
              "2      1/7/2023      USA       WA        Tesla hits pole, catches on fire    \n",
              "3    12/22/2022      USA       GA                 Tesla crashes and burns    \n",
              "4    12/19/2022   Canada        -           Tesla crashes into storefront    \n",
              "..          ...       ...     ...                                      ...   \n",
              "302         NaN       NaN     NaN                                      NaN   \n",
              "303         NaN       NaN     NaN                                      NaN   \n",
              "304         NaN       NaN     NaN                                      NaN   \n",
              "305         NaN       NaN     NaN                                      NaN   \n",
              "306         NaN       NaN     NaN   Note: AutoPilot released Oct 14, 2015    \n",
              "\n",
              "      Deaths   Tesla driver   Tesla occupant   Other vehicle   \\\n",
              "0         1.0             1                -               -    \n",
              "1         1.0             1                -               -    \n",
              "2         1.0             -                1               -    \n",
              "3         1.0             1                -               -    \n",
              "4         1.0             -                -               -    \n",
              "..        ...            ...              ...             ...   \n",
              "302       NaN            NaN              NaN             NaN   \n",
              "303       NaN            NaN              NaN             NaN   \n",
              "304       NaN            NaN              NaN             NaN   \n",
              "305       NaN            NaN              NaN             NaN   \n",
              "306       NaN            NaN              NaN             NaN   \n",
              "\n",
              "     Cyclists/ Peds   TSLA+cycl / peds   Model   Autopilot claimed   \\\n",
              "0                 -                  1       -                   -    \n",
              "1                 -                  1       -                   -    \n",
              "2                 -                  1       -                   -    \n",
              "3                 -                  1       -                   -    \n",
              "4                 1                  1       -                   -    \n",
              "..               ...                ...     ...                 ...   \n",
              "302              NaN                NaN     NaN                 NaN   \n",
              "303              NaN                NaN     NaN                 NaN   \n",
              "304              NaN                NaN     NaN                 NaN   \n",
              "305              NaN                NaN     NaN                 NaN   \n",
              "306              NaN                NaN     NaN                 NaN   \n",
              "\n",
              "     Verified Tesla Autopilot Deaths   \n",
              "0                                  -   \n",
              "1                                  -   \n",
              "2                                  -   \n",
              "3                                  -   \n",
              "4                                  -   \n",
              "..                                ...  \n",
              "302                               NaN  \n",
              "303                               NaN  \n",
              "304                               NaN  \n",
              "305                               NaN  \n",
              "306                               NaN  \n",
              "\n",
              "[307 rows x 13 columns]"
            ],
            "text/html": [
              "\n",
              "  <div id=\"df-ae751cd5-cc33-4ce5-a0fb-5472599923c7\" class=\"colab-df-container\">\n",
              "    <div>\n",
              "<style scoped>\n",
              "    .dataframe tbody tr th:only-of-type {\n",
              "        vertical-align: middle;\n",
              "    }\n",
              "\n",
              "    .dataframe tbody tr th {\n",
              "        vertical-align: top;\n",
              "    }\n",
              "\n",
              "    .dataframe thead th {\n",
              "        text-align: right;\n",
              "    }\n",
              "</style>\n",
              "<table border=\"1\" class=\"dataframe\">\n",
              "  <thead>\n",
              "    <tr style=\"text-align: right;\">\n",
              "      <th></th>\n",
              "      <th>Date</th>\n",
              "      <th>Country</th>\n",
              "      <th>State</th>\n",
              "      <th>Description</th>\n",
              "      <th>Deaths</th>\n",
              "      <th>Tesla driver</th>\n",
              "      <th>Tesla occupant</th>\n",
              "      <th>Other vehicle</th>\n",
              "      <th>Cyclists/ Peds</th>\n",
              "      <th>TSLA+cycl / peds</th>\n",
              "      <th>Model</th>\n",
              "      <th>Autopilot claimed</th>\n",
              "      <th>Verified Tesla Autopilot Deaths</th>\n",
              "    </tr>\n",
              "  </thead>\n",
              "  <tbody>\n",
              "    <tr>\n",
              "      <th>0</th>\n",
              "      <td>1/17/2023</td>\n",
              "      <td>USA</td>\n",
              "      <td>CA</td>\n",
              "      <td>Tesla crashes into back of semi</td>\n",
              "      <td>1.0</td>\n",
              "      <td>1</td>\n",
              "      <td>-</td>\n",
              "      <td>-</td>\n",
              "      <td>-</td>\n",
              "      <td>1</td>\n",
              "      <td>-</td>\n",
              "      <td>-</td>\n",
              "      <td>-</td>\n",
              "    </tr>\n",
              "    <tr>\n",
              "      <th>1</th>\n",
              "      <td>1/7/2023</td>\n",
              "      <td>Canada</td>\n",
              "      <td>-</td>\n",
              "      <td>Tesla crashes</td>\n",
              "      <td>1.0</td>\n",
              "      <td>1</td>\n",
              "      <td>-</td>\n",
              "      <td>-</td>\n",
              "      <td>-</td>\n",
              "      <td>1</td>\n",
              "      <td>-</td>\n",
              "      <td>-</td>\n",
              "      <td>-</td>\n",
              "    </tr>\n",
              "    <tr>\n",
              "      <th>2</th>\n",
              "      <td>1/7/2023</td>\n",
              "      <td>USA</td>\n",
              "      <td>WA</td>\n",
              "      <td>Tesla hits pole, catches on fire</td>\n",
              "      <td>1.0</td>\n",
              "      <td>-</td>\n",
              "      <td>1</td>\n",
              "      <td>-</td>\n",
              "      <td>-</td>\n",
              "      <td>1</td>\n",
              "      <td>-</td>\n",
              "      <td>-</td>\n",
              "      <td>-</td>\n",
              "    </tr>\n",
              "    <tr>\n",
              "      <th>3</th>\n",
              "      <td>12/22/2022</td>\n",
              "      <td>USA</td>\n",
              "      <td>GA</td>\n",
              "      <td>Tesla crashes and burns</td>\n",
              "      <td>1.0</td>\n",
              "      <td>1</td>\n",
              "      <td>-</td>\n",
              "      <td>-</td>\n",
              "      <td>-</td>\n",
              "      <td>1</td>\n",
              "      <td>-</td>\n",
              "      <td>-</td>\n",
              "      <td>-</td>\n",
              "    </tr>\n",
              "    <tr>\n",
              "      <th>4</th>\n",
              "      <td>12/19/2022</td>\n",
              "      <td>Canada</td>\n",
              "      <td>-</td>\n",
              "      <td>Tesla crashes into storefront</td>\n",
              "      <td>1.0</td>\n",
              "      <td>-</td>\n",
              "      <td>-</td>\n",
              "      <td>-</td>\n",
              "      <td>1</td>\n",
              "      <td>1</td>\n",
              "      <td>-</td>\n",
              "      <td>-</td>\n",
              "      <td>-</td>\n",
              "    </tr>\n",
              "    <tr>\n",
              "      <th>...</th>\n",
              "      <td>...</td>\n",
              "      <td>...</td>\n",
              "      <td>...</td>\n",
              "      <td>...</td>\n",
              "      <td>...</td>\n",
              "      <td>...</td>\n",
              "      <td>...</td>\n",
              "      <td>...</td>\n",
              "      <td>...</td>\n",
              "      <td>...</td>\n",
              "      <td>...</td>\n",
              "      <td>...</td>\n",
              "      <td>...</td>\n",
              "    </tr>\n",
              "    <tr>\n",
              "      <th>302</th>\n",
              "      <td>NaN</td>\n",
              "      <td>NaN</td>\n",
              "      <td>NaN</td>\n",
              "      <td>NaN</td>\n",
              "      <td>NaN</td>\n",
              "      <td>NaN</td>\n",
              "      <td>NaN</td>\n",
              "      <td>NaN</td>\n",
              "      <td>NaN</td>\n",
              "      <td>NaN</td>\n",
              "      <td>NaN</td>\n",
              "      <td>NaN</td>\n",
              "      <td>NaN</td>\n",
              "    </tr>\n",
              "    <tr>\n",
              "      <th>303</th>\n",
              "      <td>NaN</td>\n",
              "      <td>NaN</td>\n",
              "      <td>NaN</td>\n",
              "      <td>NaN</td>\n",
              "      <td>NaN</td>\n",
              "      <td>NaN</td>\n",
              "      <td>NaN</td>\n",
              "      <td>NaN</td>\n",
              "      <td>NaN</td>\n",
              "      <td>NaN</td>\n",
              "      <td>NaN</td>\n",
              "      <td>NaN</td>\n",
              "      <td>NaN</td>\n",
              "    </tr>\n",
              "    <tr>\n",
              "      <th>304</th>\n",
              "      <td>NaN</td>\n",
              "      <td>NaN</td>\n",
              "      <td>NaN</td>\n",
              "      <td>NaN</td>\n",
              "      <td>NaN</td>\n",
              "      <td>NaN</td>\n",
              "      <td>NaN</td>\n",
              "      <td>NaN</td>\n",
              "      <td>NaN</td>\n",
              "      <td>NaN</td>\n",
              "      <td>NaN</td>\n",
              "      <td>NaN</td>\n",
              "      <td>NaN</td>\n",
              "    </tr>\n",
              "    <tr>\n",
              "      <th>305</th>\n",
              "      <td>NaN</td>\n",
              "      <td>NaN</td>\n",
              "      <td>NaN</td>\n",
              "      <td>NaN</td>\n",
              "      <td>NaN</td>\n",
              "      <td>NaN</td>\n",
              "      <td>NaN</td>\n",
              "      <td>NaN</td>\n",
              "      <td>NaN</td>\n",
              "      <td>NaN</td>\n",
              "      <td>NaN</td>\n",
              "      <td>NaN</td>\n",
              "      <td>NaN</td>\n",
              "    </tr>\n",
              "    <tr>\n",
              "      <th>306</th>\n",
              "      <td>NaN</td>\n",
              "      <td>NaN</td>\n",
              "      <td>NaN</td>\n",
              "      <td>Note: AutoPilot released Oct 14, 2015</td>\n",
              "      <td>NaN</td>\n",
              "      <td>NaN</td>\n",
              "      <td>NaN</td>\n",
              "      <td>NaN</td>\n",
              "      <td>NaN</td>\n",
              "      <td>NaN</td>\n",
              "      <td>NaN</td>\n",
              "      <td>NaN</td>\n",
              "      <td>NaN</td>\n",
              "    </tr>\n",
              "  </tbody>\n",
              "</table>\n",
              "<p>307 rows × 13 columns</p>\n",
              "</div>\n",
              "    <div class=\"colab-df-buttons\">\n",
              "\n",
              "  <div class=\"colab-df-container\">\n",
              "    <button class=\"colab-df-convert\" onclick=\"convertToInteractive('df-ae751cd5-cc33-4ce5-a0fb-5472599923c7')\"\n",
              "            title=\"Convert this dataframe to an interactive table.\"\n",
              "            style=\"display:none;\">\n",
              "\n",
              "  <svg xmlns=\"http://www.w3.org/2000/svg\" height=\"24px\" viewBox=\"0 -960 960 960\">\n",
              "    <path d=\"M120-120v-720h720v720H120Zm60-500h600v-160H180v160Zm220 220h160v-160H400v160Zm0 220h160v-160H400v160ZM180-400h160v-160H180v160Zm440 0h160v-160H620v160ZM180-180h160v-160H180v160Zm440 0h160v-160H620v160Z\"/>\n",
              "  </svg>\n",
              "    </button>\n",
              "\n",
              "  <style>\n",
              "    .colab-df-container {\n",
              "      display:flex;\n",
              "      gap: 12px;\n",
              "    }\n",
              "\n",
              "    .colab-df-convert {\n",
              "      background-color: #E8F0FE;\n",
              "      border: none;\n",
              "      border-radius: 50%;\n",
              "      cursor: pointer;\n",
              "      display: none;\n",
              "      fill: #1967D2;\n",
              "      height: 32px;\n",
              "      padding: 0 0 0 0;\n",
              "      width: 32px;\n",
              "    }\n",
              "\n",
              "    .colab-df-convert:hover {\n",
              "      background-color: #E2EBFA;\n",
              "      box-shadow: 0px 1px 2px rgba(60, 64, 67, 0.3), 0px 1px 3px 1px rgba(60, 64, 67, 0.15);\n",
              "      fill: #174EA6;\n",
              "    }\n",
              "\n",
              "    .colab-df-buttons div {\n",
              "      margin-bottom: 4px;\n",
              "    }\n",
              "\n",
              "    [theme=dark] .colab-df-convert {\n",
              "      background-color: #3B4455;\n",
              "      fill: #D2E3FC;\n",
              "    }\n",
              "\n",
              "    [theme=dark] .colab-df-convert:hover {\n",
              "      background-color: #434B5C;\n",
              "      box-shadow: 0px 1px 3px 1px rgba(0, 0, 0, 0.15);\n",
              "      filter: drop-shadow(0px 1px 2px rgba(0, 0, 0, 0.3));\n",
              "      fill: #FFFFFF;\n",
              "    }\n",
              "  </style>\n",
              "\n",
              "    <script>\n",
              "      const buttonEl =\n",
              "        document.querySelector('#df-ae751cd5-cc33-4ce5-a0fb-5472599923c7 button.colab-df-convert');\n",
              "      buttonEl.style.display =\n",
              "        google.colab.kernel.accessAllowed ? 'block' : 'none';\n",
              "\n",
              "      async function convertToInteractive(key) {\n",
              "        const element = document.querySelector('#df-ae751cd5-cc33-4ce5-a0fb-5472599923c7');\n",
              "        const dataTable =\n",
              "          await google.colab.kernel.invokeFunction('convertToInteractive',\n",
              "                                                    [key], {});\n",
              "        if (!dataTable) return;\n",
              "\n",
              "        const docLinkHtml = 'Like what you see? Visit the ' +\n",
              "          '<a target=\"_blank\" href=https://colab.research.google.com/notebooks/data_table.ipynb>data table notebook</a>'\n",
              "          + ' to learn more about interactive tables.';\n",
              "        element.innerHTML = '';\n",
              "        dataTable['output_type'] = 'display_data';\n",
              "        await google.colab.output.renderOutput(dataTable, element);\n",
              "        const docLink = document.createElement('div');\n",
              "        docLink.innerHTML = docLinkHtml;\n",
              "        element.appendChild(docLink);\n",
              "      }\n",
              "    </script>\n",
              "  </div>\n",
              "\n",
              "\n",
              "<div id=\"df-91f1e914-f865-4cbf-a49f-948d62339538\">\n",
              "  <button class=\"colab-df-quickchart\" onclick=\"quickchart('df-91f1e914-f865-4cbf-a49f-948d62339538')\"\n",
              "            title=\"Suggest charts\"\n",
              "            style=\"display:none;\">\n",
              "\n",
              "<svg xmlns=\"http://www.w3.org/2000/svg\" height=\"24px\"viewBox=\"0 0 24 24\"\n",
              "     width=\"24px\">\n",
              "    <g>\n",
              "        <path d=\"M19 3H5c-1.1 0-2 .9-2 2v14c0 1.1.9 2 2 2h14c1.1 0 2-.9 2-2V5c0-1.1-.9-2-2-2zM9 17H7v-7h2v7zm4 0h-2V7h2v10zm4 0h-2v-4h2v4z\"/>\n",
              "    </g>\n",
              "</svg>\n",
              "  </button>\n",
              "\n",
              "<style>\n",
              "  .colab-df-quickchart {\n",
              "      --bg-color: #E8F0FE;\n",
              "      --fill-color: #1967D2;\n",
              "      --hover-bg-color: #E2EBFA;\n",
              "      --hover-fill-color: #174EA6;\n",
              "      --disabled-fill-color: #AAA;\n",
              "      --disabled-bg-color: #DDD;\n",
              "  }\n",
              "\n",
              "  [theme=dark] .colab-df-quickchart {\n",
              "      --bg-color: #3B4455;\n",
              "      --fill-color: #D2E3FC;\n",
              "      --hover-bg-color: #434B5C;\n",
              "      --hover-fill-color: #FFFFFF;\n",
              "      --disabled-bg-color: #3B4455;\n",
              "      --disabled-fill-color: #666;\n",
              "  }\n",
              "\n",
              "  .colab-df-quickchart {\n",
              "    background-color: var(--bg-color);\n",
              "    border: none;\n",
              "    border-radius: 50%;\n",
              "    cursor: pointer;\n",
              "    display: none;\n",
              "    fill: var(--fill-color);\n",
              "    height: 32px;\n",
              "    padding: 0;\n",
              "    width: 32px;\n",
              "  }\n",
              "\n",
              "  .colab-df-quickchart:hover {\n",
              "    background-color: var(--hover-bg-color);\n",
              "    box-shadow: 0 1px 2px rgba(60, 64, 67, 0.3), 0 1px 3px 1px rgba(60, 64, 67, 0.15);\n",
              "    fill: var(--button-hover-fill-color);\n",
              "  }\n",
              "\n",
              "  .colab-df-quickchart-complete:disabled,\n",
              "  .colab-df-quickchart-complete:disabled:hover {\n",
              "    background-color: var(--disabled-bg-color);\n",
              "    fill: var(--disabled-fill-color);\n",
              "    box-shadow: none;\n",
              "  }\n",
              "\n",
              "  .colab-df-spinner {\n",
              "    border: 2px solid var(--fill-color);\n",
              "    border-color: transparent;\n",
              "    border-bottom-color: var(--fill-color);\n",
              "    animation:\n",
              "      spin 1s steps(1) infinite;\n",
              "  }\n",
              "\n",
              "  @keyframes spin {\n",
              "    0% {\n",
              "      border-color: transparent;\n",
              "      border-bottom-color: var(--fill-color);\n",
              "      border-left-color: var(--fill-color);\n",
              "    }\n",
              "    20% {\n",
              "      border-color: transparent;\n",
              "      border-left-color: var(--fill-color);\n",
              "      border-top-color: var(--fill-color);\n",
              "    }\n",
              "    30% {\n",
              "      border-color: transparent;\n",
              "      border-left-color: var(--fill-color);\n",
              "      border-top-color: var(--fill-color);\n",
              "      border-right-color: var(--fill-color);\n",
              "    }\n",
              "    40% {\n",
              "      border-color: transparent;\n",
              "      border-right-color: var(--fill-color);\n",
              "      border-top-color: var(--fill-color);\n",
              "    }\n",
              "    60% {\n",
              "      border-color: transparent;\n",
              "      border-right-color: var(--fill-color);\n",
              "    }\n",
              "    80% {\n",
              "      border-color: transparent;\n",
              "      border-right-color: var(--fill-color);\n",
              "      border-bottom-color: var(--fill-color);\n",
              "    }\n",
              "    90% {\n",
              "      border-color: transparent;\n",
              "      border-bottom-color: var(--fill-color);\n",
              "    }\n",
              "  }\n",
              "</style>\n",
              "\n",
              "  <script>\n",
              "    async function quickchart(key) {\n",
              "      const quickchartButtonEl =\n",
              "        document.querySelector('#' + key + ' button');\n",
              "      quickchartButtonEl.disabled = true;  // To prevent multiple clicks.\n",
              "      quickchartButtonEl.classList.add('colab-df-spinner');\n",
              "      try {\n",
              "        const charts = await google.colab.kernel.invokeFunction(\n",
              "            'suggestCharts', [key], {});\n",
              "      } catch (error) {\n",
              "        console.error('Error during call to suggestCharts:', error);\n",
              "      }\n",
              "      quickchartButtonEl.classList.remove('colab-df-spinner');\n",
              "      quickchartButtonEl.classList.add('colab-df-quickchart-complete');\n",
              "    }\n",
              "    (() => {\n",
              "      let quickchartButtonEl =\n",
              "        document.querySelector('#df-91f1e914-f865-4cbf-a49f-948d62339538 button');\n",
              "      quickchartButtonEl.style.display =\n",
              "        google.colab.kernel.accessAllowed ? 'block' : 'none';\n",
              "    })();\n",
              "  </script>\n",
              "</div>\n",
              "\n",
              "  <div id=\"id_193d7642-ceb1-449d-803a-f1a2cda004a1\">\n",
              "    <style>\n",
              "      .colab-df-generate {\n",
              "        background-color: #E8F0FE;\n",
              "        border: none;\n",
              "        border-radius: 50%;\n",
              "        cursor: pointer;\n",
              "        display: none;\n",
              "        fill: #1967D2;\n",
              "        height: 32px;\n",
              "        padding: 0 0 0 0;\n",
              "        width: 32px;\n",
              "      }\n",
              "\n",
              "      .colab-df-generate:hover {\n",
              "        background-color: #E2EBFA;\n",
              "        box-shadow: 0px 1px 2px rgba(60, 64, 67, 0.3), 0px 1px 3px 1px rgba(60, 64, 67, 0.15);\n",
              "        fill: #174EA6;\n",
              "      }\n",
              "\n",
              "      [theme=dark] .colab-df-generate {\n",
              "        background-color: #3B4455;\n",
              "        fill: #D2E3FC;\n",
              "      }\n",
              "\n",
              "      [theme=dark] .colab-df-generate:hover {\n",
              "        background-color: #434B5C;\n",
              "        box-shadow: 0px 1px 3px 1px rgba(0, 0, 0, 0.15);\n",
              "        filter: drop-shadow(0px 1px 2px rgba(0, 0, 0, 0.3));\n",
              "        fill: #FFFFFF;\n",
              "      }\n",
              "    </style>\n",
              "    <button class=\"colab-df-generate\" onclick=\"generateWithVariable('data')\"\n",
              "            title=\"Generate code using this dataframe.\"\n",
              "            style=\"display:none;\">\n",
              "\n",
              "  <svg xmlns=\"http://www.w3.org/2000/svg\" height=\"24px\"viewBox=\"0 0 24 24\"\n",
              "       width=\"24px\">\n",
              "    <path d=\"M7,19H8.4L18.45,9,17,7.55,7,17.6ZM5,21V16.75L18.45,3.32a2,2,0,0,1,2.83,0l1.4,1.43a1.91,1.91,0,0,1,.58,1.4,1.91,1.91,0,0,1-.58,1.4L9.25,21ZM18.45,9,17,7.55Zm-12,3A5.31,5.31,0,0,0,4.9,8.1,5.31,5.31,0,0,0,1,6.5,5.31,5.31,0,0,0,4.9,4.9,5.31,5.31,0,0,0,6.5,1,5.31,5.31,0,0,0,8.1,4.9,5.31,5.31,0,0,0,12,6.5,5.46,5.46,0,0,0,6.5,12Z\"/>\n",
              "  </svg>\n",
              "    </button>\n",
              "    <script>\n",
              "      (() => {\n",
              "      const buttonEl =\n",
              "        document.querySelector('#id_193d7642-ceb1-449d-803a-f1a2cda004a1 button.colab-df-generate');\n",
              "      buttonEl.style.display =\n",
              "        google.colab.kernel.accessAllowed ? 'block' : 'none';\n",
              "\n",
              "      buttonEl.onclick = () => {\n",
              "        google.colab.notebook.generateWithVariable('data');\n",
              "      }\n",
              "      })();\n",
              "    </script>\n",
              "  </div>\n",
              "\n",
              "    </div>\n",
              "  </div>\n"
            ],
            "application/vnd.google.colaboratory.intrinsic+json": {
              "type": "dataframe",
              "variable_name": "data",
              "summary": "{\n  \"name\": \"data\",\n  \"rows\": 307,\n  \"fields\": [\n    {\n      \"column\": \"Date\",\n      \"properties\": {\n        \"dtype\": \"object\",\n        \"num_unique_values\": 263,\n        \"samples\": [\n          \"4/17/2021\",\n          \"4/1/2021\",\n          \"7/14/2014\"\n        ],\n        \"semantic_type\": \"\",\n        \"description\": \"\"\n      }\n    },\n    {\n      \"column\": \" Country \",\n      \"properties\": {\n        \"dtype\": \"category\",\n        \"num_unique_values\": 23,\n        \"samples\": [\n          \" Norway \",\n          \" Switzerland \",\n          \" USA \"\n        ],\n        \"semantic_type\": \"\",\n        \"description\": \"\"\n      }\n    },\n    {\n      \"column\": \" State \",\n      \"properties\": {\n        \"dtype\": \"category\",\n        \"num_unique_values\": 43,\n        \"samples\": [\n          \" IL \",\n          \" CO \",\n          \" UT \"\n        ],\n        \"semantic_type\": \"\",\n        \"description\": \"\"\n      }\n    },\n    {\n      \"column\": \" Description \",\n      \"properties\": {\n        \"dtype\": \"string\",\n        \"num_unique_values\": 249,\n        \"samples\": [\n          \" Pedestrian hit in collision, later dies in hospital weeks later \",\n          \" Tesla hits pedestrian on highway \",\n          \" Motorbiker killed by Tesla \"\n        ],\n        \"semantic_type\": \"\",\n        \"description\": \"\"\n      }\n    },\n    {\n      \"column\": \" Deaths \",\n      \"properties\": {\n        \"dtype\": \"number\",\n        \"std\": 119.03201357381796,\n        \"min\": 1.0,\n        \"max\": 2013.0,\n        \"num_unique_values\": 8,\n        \"samples\": [\n          2.0,\n          261.0,\n          1.0\n        ],\n        \"semantic_type\": \"\",\n        \"description\": \"\"\n      }\n    },\n    {\n      \"column\": \" Tesla driver \",\n      \"properties\": {\n        \"dtype\": \"category\",\n        \"num_unique_values\": 7,\n        \"samples\": [\n          \"  1 \",\n          \" - \",\n          \"  6 \"\n        ],\n        \"semantic_type\": \"\",\n        \"description\": \"\"\n      }\n    },\n    {\n      \"column\": \" Tesla occupant \",\n      \"properties\": {\n        \"dtype\": \"category\",\n        \"num_unique_values\": 9,\n        \"samples\": [\n          \"  5 \",\n          \"  1 \",\n          \"  41 \"\n        ],\n        \"semantic_type\": \"\",\n        \"description\": \"\"\n      }\n    },\n    {\n      \"column\": \" Other vehicle \",\n      \"properties\": {\n        \"dtype\": \"category\",\n        \"num_unique_values\": 10,\n        \"samples\": [\n          \"  16 \",\n          \"  1 \",\n          \"  29 \"\n        ],\n        \"semantic_type\": \"\",\n        \"description\": \"\"\n      }\n    },\n    {\n      \"column\": \" Cyclists/ Peds \",\n      \"properties\": {\n        \"dtype\": \"category\",\n        \"num_unique_values\": 8,\n        \"samples\": [\n          \"  1 \",\n          \"  46 \",\n          \" - \"\n        ],\n        \"semantic_type\": \"\",\n        \"description\": \"\"\n      }\n    },\n    {\n      \"column\": \" TSLA+cycl / peds \",\n      \"properties\": {\n        \"dtype\": \"category\",\n        \"num_unique_values\": 10,\n        \"samples\": [\n          \"  21 \",\n          \" - \",\n          \"  61 \"\n        ],\n        \"semantic_type\": \"\",\n        \"description\": \"\"\n      }\n    },\n    {\n      \"column\": \" Model \",\n      \"properties\": {\n        \"dtype\": \"category\",\n        \"num_unique_values\": 9,\n        \"samples\": [\n          \"  50 \",\n          \" Y \",\n          \" S \"\n        ],\n        \"semantic_type\": \"\",\n        \"description\": \"\"\n      }\n    },\n    {\n      \"column\": \" Autopilot claimed \",\n      \"properties\": {\n        \"dtype\": \"category\",\n        \"num_unique_values\": 8,\n        \"samples\": [\n          \"  1 \",\n          \"  38 \",\n          \" - \"\n        ],\n        \"semantic_type\": \"\",\n        \"description\": \"\"\n      }\n    },\n    {\n      \"column\": \" Verified Tesla Autopilot Deaths \",\n      \"properties\": {\n        \"dtype\": \"category\",\n        \"num_unique_values\": 11,\n        \"samples\": [\n          \"  16 \",\n          \" - \",\n          \"  75 \"\n        ],\n        \"semantic_type\": \"\",\n        \"description\": \"\"\n      }\n    }\n  ]\n}"
            }
          },
          "metadata": {},
          "execution_count": 11
        }
      ]
    },
    {
      "cell_type": "markdown",
      "source": [
        "## Missing value treatment"
      ],
      "metadata": {
        "id": "vgvYY6P6wTgj"
      }
    },
    {
      "cell_type": "code",
      "source": [
        "cols= data.columns[5:]\n",
        "for col in cols:\n",
        "  if col != ' Model ':\n",
        "    print(col)\n",
        "    data[col]=data[col].fillna(\"-\").astype(str)\n",
        "    data[col]=data[col].str.strip()\n",
        "    data[col]=data[col].replace(\"-\", \"0\")\n",
        "    data[col]=data[col].astype(int)\n",
        "    print(data[col].unique())"
      ],
      "metadata": {
        "colab": {
          "base_uri": "https://localhost:8080/"
        },
        "id": "2mnyuz-5oW2D",
        "outputId": "d2ef031d-8e8c-4cd2-c049-1eddc0b7b995"
      },
      "execution_count": null,
      "outputs": [
        {
          "output_type": "stream",
          "name": "stdout",
          "text": [
            " Tesla driver \n",
            "[   1    0   28   89  117    6 2014]\n",
            " Tesla occupant \n",
            "[   0    1    3    2    7   41   48    5 2015]\n",
            " Other vehicle \n",
            "[   0    1    2    3    4   29  101  130   16 2016]\n",
            " Cyclists/ Peds \n",
            "[   0    1    2   20   26   46   11 2017]\n",
            " TSLA+cycl / peds \n",
            "[   1    0    2    3    4   61  149  210   21 2018]\n",
            " Autopilot claimed \n",
            "[   0    1    2    8   30   38   47 2020]\n",
            " Verified Tesla Autopilot Deaths \n",
            "[   0    1    2    3   16   19  118 2022   75 2021]\n"
          ]
        }
      ]
    },
    {
      "cell_type": "code",
      "source": [
        "data.isna().sum()"
      ],
      "metadata": {
        "id": "cUin3Ud4oWyy",
        "colab": {
          "base_uri": "https://localhost:8080/",
          "height": 492
        },
        "outputId": "46043e23-2480-4dcb-e8bc-c8ca309cbd72"
      },
      "execution_count": null,
      "outputs": [
        {
          "output_type": "execute_result",
          "data": {
            "text/plain": [
              "Date                                 13\n",
              " Country                             13\n",
              " State                               13\n",
              " Description                         12\n",
              " Deaths                               8\n",
              " Tesla driver                         0\n",
              " Tesla occupant                       0\n",
              " Other vehicle                        0\n",
              " Cyclists/ Peds                       0\n",
              " TSLA+cycl / peds                     0\n",
              " Model                               11\n",
              " Autopilot claimed                    0\n",
              " Verified Tesla Autopilot Deaths      0\n",
              "dtype: int64"
            ],
            "text/html": [
              "<div>\n",
              "<style scoped>\n",
              "    .dataframe tbody tr th:only-of-type {\n",
              "        vertical-align: middle;\n",
              "    }\n",
              "\n",
              "    .dataframe tbody tr th {\n",
              "        vertical-align: top;\n",
              "    }\n",
              "\n",
              "    .dataframe thead th {\n",
              "        text-align: right;\n",
              "    }\n",
              "</style>\n",
              "<table border=\"1\" class=\"dataframe\">\n",
              "  <thead>\n",
              "    <tr style=\"text-align: right;\">\n",
              "      <th></th>\n",
              "      <th>0</th>\n",
              "    </tr>\n",
              "  </thead>\n",
              "  <tbody>\n",
              "    <tr>\n",
              "      <th>Date</th>\n",
              "      <td>13</td>\n",
              "    </tr>\n",
              "    <tr>\n",
              "      <th>Country</th>\n",
              "      <td>13</td>\n",
              "    </tr>\n",
              "    <tr>\n",
              "      <th>State</th>\n",
              "      <td>13</td>\n",
              "    </tr>\n",
              "    <tr>\n",
              "      <th>Description</th>\n",
              "      <td>12</td>\n",
              "    </tr>\n",
              "    <tr>\n",
              "      <th>Deaths</th>\n",
              "      <td>8</td>\n",
              "    </tr>\n",
              "    <tr>\n",
              "      <th>Tesla driver</th>\n",
              "      <td>0</td>\n",
              "    </tr>\n",
              "    <tr>\n",
              "      <th>Tesla occupant</th>\n",
              "      <td>0</td>\n",
              "    </tr>\n",
              "    <tr>\n",
              "      <th>Other vehicle</th>\n",
              "      <td>0</td>\n",
              "    </tr>\n",
              "    <tr>\n",
              "      <th>Cyclists/ Peds</th>\n",
              "      <td>0</td>\n",
              "    </tr>\n",
              "    <tr>\n",
              "      <th>TSLA+cycl / peds</th>\n",
              "      <td>0</td>\n",
              "    </tr>\n",
              "    <tr>\n",
              "      <th>Model</th>\n",
              "      <td>11</td>\n",
              "    </tr>\n",
              "    <tr>\n",
              "      <th>Autopilot claimed</th>\n",
              "      <td>0</td>\n",
              "    </tr>\n",
              "    <tr>\n",
              "      <th>Verified Tesla Autopilot Deaths</th>\n",
              "      <td>0</td>\n",
              "    </tr>\n",
              "  </tbody>\n",
              "</table>\n",
              "</div><br><label><b>dtype:</b> int64</label>"
            ]
          },
          "metadata": {},
          "execution_count": 13
        }
      ]
    },
    {
      "cell_type": "code",
      "source": [
        "data.dropna(inplace= True)"
      ],
      "metadata": {
        "id": "M6ug8AjxoWvi"
      },
      "execution_count": null,
      "outputs": []
    },
    {
      "cell_type": "code",
      "source": [
        "data.isna().sum()\n"
      ],
      "metadata": {
        "id": "1riVUTqmoWpZ",
        "colab": {
          "base_uri": "https://localhost:8080/",
          "height": 492
        },
        "outputId": "e6c14e38-3662-49c2-9103-b19bd1d4eb2e"
      },
      "execution_count": null,
      "outputs": [
        {
          "output_type": "execute_result",
          "data": {
            "text/plain": [
              "Date                                 0\n",
              " Country                             0\n",
              " State                               0\n",
              " Description                         0\n",
              " Deaths                              0\n",
              " Tesla driver                        0\n",
              " Tesla occupant                      0\n",
              " Other vehicle                       0\n",
              " Cyclists/ Peds                      0\n",
              " TSLA+cycl / peds                    0\n",
              " Model                               0\n",
              " Autopilot claimed                   0\n",
              " Verified Tesla Autopilot Deaths     0\n",
              "dtype: int64"
            ],
            "text/html": [
              "<div>\n",
              "<style scoped>\n",
              "    .dataframe tbody tr th:only-of-type {\n",
              "        vertical-align: middle;\n",
              "    }\n",
              "\n",
              "    .dataframe tbody tr th {\n",
              "        vertical-align: top;\n",
              "    }\n",
              "\n",
              "    .dataframe thead th {\n",
              "        text-align: right;\n",
              "    }\n",
              "</style>\n",
              "<table border=\"1\" class=\"dataframe\">\n",
              "  <thead>\n",
              "    <tr style=\"text-align: right;\">\n",
              "      <th></th>\n",
              "      <th>0</th>\n",
              "    </tr>\n",
              "  </thead>\n",
              "  <tbody>\n",
              "    <tr>\n",
              "      <th>Date</th>\n",
              "      <td>0</td>\n",
              "    </tr>\n",
              "    <tr>\n",
              "      <th>Country</th>\n",
              "      <td>0</td>\n",
              "    </tr>\n",
              "    <tr>\n",
              "      <th>State</th>\n",
              "      <td>0</td>\n",
              "    </tr>\n",
              "    <tr>\n",
              "      <th>Description</th>\n",
              "      <td>0</td>\n",
              "    </tr>\n",
              "    <tr>\n",
              "      <th>Deaths</th>\n",
              "      <td>0</td>\n",
              "    </tr>\n",
              "    <tr>\n",
              "      <th>Tesla driver</th>\n",
              "      <td>0</td>\n",
              "    </tr>\n",
              "    <tr>\n",
              "      <th>Tesla occupant</th>\n",
              "      <td>0</td>\n",
              "    </tr>\n",
              "    <tr>\n",
              "      <th>Other vehicle</th>\n",
              "      <td>0</td>\n",
              "    </tr>\n",
              "    <tr>\n",
              "      <th>Cyclists/ Peds</th>\n",
              "      <td>0</td>\n",
              "    </tr>\n",
              "    <tr>\n",
              "      <th>TSLA+cycl / peds</th>\n",
              "      <td>0</td>\n",
              "    </tr>\n",
              "    <tr>\n",
              "      <th>Model</th>\n",
              "      <td>0</td>\n",
              "    </tr>\n",
              "    <tr>\n",
              "      <th>Autopilot claimed</th>\n",
              "      <td>0</td>\n",
              "    </tr>\n",
              "    <tr>\n",
              "      <th>Verified Tesla Autopilot Deaths</th>\n",
              "      <td>0</td>\n",
              "    </tr>\n",
              "  </tbody>\n",
              "</table>\n",
              "</div><br><label><b>dtype:</b> int64</label>"
            ]
          },
          "metadata": {},
          "execution_count": 15
        }
      ]
    },
    {
      "cell_type": "markdown",
      "source": [
        "## Removing spaces and special charecters from the column names"
      ],
      "metadata": {
        "id": "NtjOn9adxLbt"
      }
    },
    {
      "cell_type": "code",
      "source": [
        "data.columns = data.columns.str.strip()\n",
        "data.columns"
      ],
      "metadata": {
        "colab": {
          "base_uri": "https://localhost:8080/"
        },
        "id": "mLEslTuWnCfg",
        "outputId": "b5a79f1f-8659-4875-e99e-f5a1cfb75ade"
      },
      "execution_count": null,
      "outputs": [
        {
          "output_type": "execute_result",
          "data": {
            "text/plain": [
              "Index(['Date', 'Country', 'State', 'Description', 'Deaths', 'Tesla driver',\n",
              "       'Tesla occupant', 'Other vehicle', 'Cyclists/ Peds', 'TSLA+cycl / peds',\n",
              "       'Model', 'Autopilot claimed', 'Verified Tesla Autopilot Deaths'],\n",
              "      dtype='object')"
            ]
          },
          "metadata": {},
          "execution_count": 16
        }
      ]
    },
    {
      "cell_type": "code",
      "source": [
        "data.columns= data.columns.str.replace(\" \",\"\", regex= True).str.replace(\"[+/]\",\"_\", regex= True)"
      ],
      "metadata": {
        "id": "tipF6U6dnCc3"
      },
      "execution_count": null,
      "outputs": []
    },
    {
      "cell_type": "code",
      "source": [
        "data.columns"
      ],
      "metadata": {
        "colab": {
          "base_uri": "https://localhost:8080/"
        },
        "id": "90OJeBo5nCZG",
        "outputId": "c1f64935-64e1-4ebb-b8ef-d943fff5a115"
      },
      "execution_count": null,
      "outputs": [
        {
          "output_type": "execute_result",
          "data": {
            "text/plain": [
              "Index(['Date', 'Country', 'State', 'Description', 'Deaths', 'Tesladriver',\n",
              "       'Teslaoccupant', 'Othervehicle', 'Cyclists_Peds', 'TSLA_cycl_peds',\n",
              "       'Model', 'Autopilotclaimed', 'VerifiedTeslaAutopilotDeaths'],\n",
              "      dtype='object')"
            ]
          },
          "metadata": {},
          "execution_count": 18
        }
      ]
    },
    {
      "cell_type": "markdown",
      "source": [
        "## Changing variable names according to python syntax"
      ],
      "metadata": {
        "id": "qME4nz8Hx5TT"
      }
    },
    {
      "cell_type": "code",
      "source": [
        "data.rename(columns={'Autopilotclaimed': 'Claimed', 'VerifiedTeslaAutopilotDeaths':'VTAD',\n",
        "                      \"Teslaoccupant\" : \"Tesla_Occupant\", \"Othervehicle\":'Other_Vehicle',\n",
        "                     \"Tesladriver\": \"Tesla_Driver\",\n",
        "                     }, inplace = True )"
      ],
      "metadata": {
        "id": "WZ5wIVLG1v_5"
      },
      "execution_count": null,
      "outputs": []
    },
    {
      "cell_type": "code",
      "source": [
        "data.info()"
      ],
      "metadata": {
        "colab": {
          "base_uri": "https://localhost:8080/"
        },
        "id": "vDJGXGvz1yPI",
        "outputId": "efd1d5e4-cef9-4642-8efc-315a5be31b02"
      },
      "execution_count": null,
      "outputs": [
        {
          "output_type": "stream",
          "name": "stdout",
          "text": [
            "<class 'pandas.core.frame.DataFrame'>\n",
            "Index: 294 entries, 0 to 293\n",
            "Data columns (total 13 columns):\n",
            " #   Column          Non-Null Count  Dtype  \n",
            "---  ------          --------------  -----  \n",
            " 0   Date            294 non-null    object \n",
            " 1   Country         294 non-null    object \n",
            " 2   State           294 non-null    object \n",
            " 3   Description     294 non-null    object \n",
            " 4   Deaths          294 non-null    float64\n",
            " 5   Tesla_Driver    294 non-null    int64  \n",
            " 6   Tesla_Occupant  294 non-null    int64  \n",
            " 7   Other_Vehicle   294 non-null    int64  \n",
            " 8   Cyclists_Peds   294 non-null    int64  \n",
            " 9   TSLA_cycl_peds  294 non-null    int64  \n",
            " 10  Model           294 non-null    object \n",
            " 11  Claimed         294 non-null    int64  \n",
            " 12  VTAD            294 non-null    int64  \n",
            "dtypes: float64(1), int64(7), object(5)\n",
            "memory usage: 32.2+ KB\n"
          ]
        }
      ]
    },
    {
      "cell_type": "markdown",
      "source": [
        "## Exploratory Data Analysis"
      ],
      "metadata": {
        "id": "dKkBKluqyEVz"
      }
    },
    {
      "cell_type": "markdown",
      "source": [
        "### Analysing the no. of events by date, year, month for each state and country"
      ],
      "metadata": {
        "id": "B0orVNSNyW0g"
      }
    },
    {
      "cell_type": "code",
      "source": [
        "data.Date= pd.to_datetime(data.Date)"
      ],
      "metadata": {
        "id": "4zQwlES21yMe"
      },
      "execution_count": null,
      "outputs": []
    },
    {
      "cell_type": "code",
      "source": [
        "data.loc[:, \"event_year\"]= data.Date.dt.year\n",
        "data.loc[:,\"event_month\"] = data.Date.dt.month\n",
        "data.loc[:,\"event_day\"] = data.Date.dt.day"
      ],
      "metadata": {
        "id": "UduWxLXH1yIv"
      },
      "execution_count": null,
      "outputs": []
    },
    {
      "cell_type": "code",
      "source": [
        "data= data[data.event_year!= 2023]"
      ],
      "metadata": {
        "id": "D4dIBhFv-ei2"
      },
      "execution_count": null,
      "outputs": []
    },
    {
      "cell_type": "code",
      "source": [
        "vc = data.event_year.value_counts()\n",
        "vc = vc.sort_index()\n",
        "vc"
      ],
      "metadata": {
        "colab": {
          "base_uri": "https://localhost:8080/",
          "height": 429
        },
        "id": "8lzvRR3q-d-O",
        "outputId": "768a6fe0-0405-4a52-a0a1-f1350e9c0260"
      },
      "execution_count": null,
      "outputs": [
        {
          "output_type": "execute_result",
          "data": {
            "text/plain": [
              "event_year\n",
              "2013     2\n",
              "2014     4\n",
              "2015     5\n",
              "2016    15\n",
              "2017    11\n",
              "2018    18\n",
              "2019    46\n",
              "2020    39\n",
              "2021    58\n",
              "2022    93\n",
              "Name: count, dtype: int64"
            ],
            "text/html": [
              "<div>\n",
              "<style scoped>\n",
              "    .dataframe tbody tr th:only-of-type {\n",
              "        vertical-align: middle;\n",
              "    }\n",
              "\n",
              "    .dataframe tbody tr th {\n",
              "        vertical-align: top;\n",
              "    }\n",
              "\n",
              "    .dataframe thead th {\n",
              "        text-align: right;\n",
              "    }\n",
              "</style>\n",
              "<table border=\"1\" class=\"dataframe\">\n",
              "  <thead>\n",
              "    <tr style=\"text-align: right;\">\n",
              "      <th></th>\n",
              "      <th>count</th>\n",
              "    </tr>\n",
              "    <tr>\n",
              "      <th>event_year</th>\n",
              "      <th></th>\n",
              "    </tr>\n",
              "  </thead>\n",
              "  <tbody>\n",
              "    <tr>\n",
              "      <th>2013</th>\n",
              "      <td>2</td>\n",
              "    </tr>\n",
              "    <tr>\n",
              "      <th>2014</th>\n",
              "      <td>4</td>\n",
              "    </tr>\n",
              "    <tr>\n",
              "      <th>2015</th>\n",
              "      <td>5</td>\n",
              "    </tr>\n",
              "    <tr>\n",
              "      <th>2016</th>\n",
              "      <td>15</td>\n",
              "    </tr>\n",
              "    <tr>\n",
              "      <th>2017</th>\n",
              "      <td>11</td>\n",
              "    </tr>\n",
              "    <tr>\n",
              "      <th>2018</th>\n",
              "      <td>18</td>\n",
              "    </tr>\n",
              "    <tr>\n",
              "      <th>2019</th>\n",
              "      <td>46</td>\n",
              "    </tr>\n",
              "    <tr>\n",
              "      <th>2020</th>\n",
              "      <td>39</td>\n",
              "    </tr>\n",
              "    <tr>\n",
              "      <th>2021</th>\n",
              "      <td>58</td>\n",
              "    </tr>\n",
              "    <tr>\n",
              "      <th>2022</th>\n",
              "      <td>93</td>\n",
              "    </tr>\n",
              "  </tbody>\n",
              "</table>\n",
              "</div><br><label><b>dtype:</b> int64</label>"
            ]
          },
          "metadata": {},
          "execution_count": 24
        }
      ]
    },
    {
      "cell_type": "code",
      "source": [
        "plt.figure(figsize = (15,5))\n",
        "plt.bar(height = vc.values, x = vc.index, color = \"salmon\")\n",
        "plt.xticks(vc.index, vc.index)\n",
        "for i in vc.index:\n",
        "  plt.annotate(vc[i], xy = (i-0.05, vc[i]+2), size = 13)\n",
        "plt.ylim(0,100)\n",
        "plt.title(\"Event per Year\", size = 30, color = \"chocolate\", weight = \"heavy\")\n",
        "plt.show()"
      ],
      "metadata": {
        "colab": {
          "base_uri": "https://localhost:8080/",
          "height": 487
        },
        "id": "PPskXj7O-d1g",
        "outputId": "db0ed381-bb87-4ed3-cc59-c5d25f592a94"
      },
      "execution_count": null,
      "outputs": [
        {
          "output_type": "display_data",
          "data": {
            "text/plain": [
              "<Figure size 1500x500 with 1 Axes>"
            ],
            "image/png": "[encoded data removed]"
          },
          "metadata": {}
        }
      ]
    },
    {
      "cell_type": "code",
      "source": [
        "vc = data.event_month.value_counts()\n",
        "vc = vc.sort_index()\n",
        "plt.figure(figsize = (15,5))\n",
        "plt.bar(height = vc.values, x = vc.index, color = \"darkslateblue\")\n",
        "plt.xticks(vc.index, vc.index)\n",
        "for i in vc.index:\n",
        "  plt.annotate(vc[i], xy = (i-0.05, vc[i]+1), size = 13)\n",
        "plt.ylim(0, 5 * round(vc.max()/5) +5)\n",
        "plt.xlabel(\"Month\")\n",
        "plt.title(\"Event by month\", size = 30, color = \"violet\",weight = \"heavy\")\n",
        "plt.show()"
      ],
      "metadata": {
        "colab": {
          "base_uri": "https://localhost:8080/",
          "height": 507
        },
        "id": "1sZ635OM-dy0",
        "outputId": "52ed8a02-c3af-470a-e900-ccdab417b83c"
      },
      "execution_count": null,
      "outputs": [
        {
          "output_type": "display_data",
          "data": {
            "text/plain": [
              "<Figure size 1500x500 with 1 Axes>"
            ],
            "image/png": "[encoded data removed]"
          },
          "metadata": {}
        }
      ]
    },
    {
      "cell_type": "code",
      "source": [
        "vc = data.event_day.value_counts()\n",
        "vc = vc.sort_index()\n",
        "plt.figure(figsize = (15,5))\n",
        "plt.plot( vc.index, vc.values)\n",
        "plt.scatter( vc.index, vc.values)\n",
        "plt.xlabel(\"Day\")\n",
        "plt.title(\"Event by Day : Total for all years\", size = 30, color = \"royalblue\",weight = \"heavy\")\n",
        "plt.show()"
      ],
      "metadata": {
        "colab": {
          "base_uri": "https://localhost:8080/",
          "height": 507
        },
        "id": "dvulb9d0-dvR",
        "outputId": "8370e0dc-3090-401a-89bd-51605d446f34"
      },
      "execution_count": null,
      "outputs": [
        {
          "output_type": "display_data",
          "data": {
            "text/plain": [
              "<Figure size 1500x500 with 1 Axes>"
            ],
            "image/png": "[encoded data removed]"
          },
          "metadata": {}
        }
      ]
    },
    {
      "cell_type": "markdown",
      "source": [
        "## Conclusion:\n",
        "    \n",
        "\n",
        "*   Tesla's accidents tends to increase every year\n",
        "*   The no. of accidents in Nov and Dec is the highest\n",
        "*   Day wise no concrete info as the distribution is irregular\n",
        "\n",
        "However for year wise pattern we should be considering the accidents vs sales data. More Tesla on road will definetly bring a rise in no. of accidents while proportion of accidents might not increase as such.\n",
        "\n",
        "\n",
        "\n"
      ],
      "metadata": {
        "id": "nK6cDok2yukU"
      }
    },
    {
      "cell_type": "code",
      "source": [
        "vc = data.Country.value_counts()\n",
        "plt.figure(figsize = (25,5))\n",
        "plt.bar(height = vc.values, x = vc.index, color = \"mediumaquamarine\")\n",
        "plt.xticks(vc.index, vc.index)\n",
        "for i in range(len(vc.index)):\n",
        "  plt.annotate(vc[i], xy = (i-0.1, vc[i]+2), size = 10)\n",
        "plt.title(\"Event per Country\", size = 30, color = \"seagreen\", weight = \"heavy\")\n",
        "plt.ylim(0, 25 * round(vc.max()/25))\n",
        "plt.show()"
      ],
      "metadata": {
        "colab": {
          "base_uri": "https://localhost:8080/",
          "height": 365
        },
        "id": "KSiE0lslB6xJ",
        "outputId": "2b7fa9b9-792b-4179-8bc4-359e9bb11c6c"
      },
      "execution_count": null,
      "outputs": [
        {
          "output_type": "stream",
          "name": "stderr",
          "text": [
            "<ipython-input-28-acbf0f8a016a>:6: FutureWarning: Series.__getitem__ treating keys as positions is deprecated. In a future version, integer keys will always be treated as labels (consistent with DataFrame behavior). To access a value by position, use `ser.iloc[pos]`\n",
            "  plt.annotate(vc[i], xy = (i-0.1, vc[i]+2), size = 10)\n"
          ]
        },
        {
          "output_type": "display_data",
          "data": {
            "text/plain": [
              "<Figure size 2500x500 with 1 Axes>"
            ],
            "image/png": "[encoded data removed]"
          },
          "metadata": {}
        }
      ]
    },
    {
      "cell_type": "code",
      "source": [
        "data.State = data.State.str.strip()"
      ],
      "metadata": {
        "colab": {
          "base_uri": "https://localhost:8080/"
        },
        "id": "Ut70pYAnB6t4",
        "outputId": "bc3285f6-74d3-4acd-a83d-e4eeb3bbd17e"
      },
      "execution_count": null,
      "outputs": [
        {
          "output_type": "stream",
          "name": "stderr",
          "text": [
            "<ipython-input-29-8130ec4900f7>:1: SettingWithCopyWarning: \n",
            "A value is trying to be set on a copy of a slice from a DataFrame.\n",
            "Try using .loc[row_indexer,col_indexer] = value instead\n",
            "\n",
            "See the caveats in the documentation: https://pandas.pydata.org/pandas-docs/stable/user_guide/indexing.html#returning-a-view-versus-a-copy\n",
            "  data.State = data.State.str.strip()\n"
          ]
        }
      ]
    },
    {
      "cell_type": "code",
      "source": [
        "vc = data.State.value_counts()\n",
        "vc = vc[vc.index != \"-\"]\n",
        "plt.figure(figsize = (25,5))\n",
        "plt.bar(height = vc.values, x = vc.index, color = \"sandybrown\")\n",
        "plt.xticks(vc.index, vc.index)\n",
        "for i in range(len(vc.index)):\n",
        "  plt.annotate(vc[i], xy = (i-0.1, vc[i]+2), size = 10)\n",
        "plt.title(\"Event per State\", size = 30, color = \"saddlebrown\", weight = \"heavy\")\n",
        "plt.ylim(0, 25 * round(vc.max()/25))\n",
        "plt.show()"
      ],
      "metadata": {
        "colab": {
          "base_uri": "https://localhost:8080/",
          "height": 365
        },
        "id": "QXHxPD4innGW",
        "outputId": "e13098fd-bc8d-4520-e25c-40cc3664d6d9"
      },
      "execution_count": null,
      "outputs": [
        {
          "output_type": "stream",
          "name": "stderr",
          "text": [
            "<ipython-input-30-f06dd1bf7356>:7: FutureWarning: Series.__getitem__ treating keys as positions is deprecated. In a future version, integer keys will always be treated as labels (consistent with DataFrame behavior). To access a value by position, use `ser.iloc[pos]`\n",
            "  plt.annotate(vc[i], xy = (i-0.1, vc[i]+2), size = 10)\n"
          ]
        },
        {
          "output_type": "display_data",
          "data": {
            "text/plain": [
              "<Figure size 2500x500 with 1 Axes>"
            ],
            "image/png": "[encoded data removed]"
          },
          "metadata": {}
        }
      ]
    },
    {
      "cell_type": "markdown",
      "source": [
        "##Analyzing the different aspects of the death events. For example:\n",
        "*   What is the number of victims (deaths) in each accident?\n",
        "*   How many times did tesla drivers die?\n",
        "*   What is the proportion of events in which one or more occupants died?\n",
        "*   What is the distribution of events in which the vehicle hit a cyclist or a\n",
        "    pedestrian?\n",
        "*   How many times did the accident involve the death of an occupant or driver\n",
        "    of a Tesla along with a cyclist or pedestrian?\n",
        "*   What is the frequency of Tesla colliding with other vehicles?\n",
        "\n",
        "\n",
        "\n"
      ],
      "metadata": {
        "id": "ovKKZHX4Hnjf"
      }
    },
    {
      "cell_type": "code",
      "source": [
        "col_list = ['Deaths','Tesla_Driver','Tesla_Occupant', 'Other_Vehicle', 'Cyclists_Peds', 'TSLA_cycl_peds']"
      ],
      "metadata": {
        "id": "qEv1yeUdnm9w"
      },
      "execution_count": null,
      "outputs": []
    },
    {
      "cell_type": "code",
      "source": [
        "colr = ['salmon', 'mediumaquamarine', 'mediumpurple', 'goldenrod', 'silver', 'saddlebrown']"
      ],
      "metadata": {
        "id": "aalV3s6bnm7H"
      },
      "execution_count": null,
      "outputs": []
    },
    {
      "cell_type": "code",
      "source": [
        "f,ax = plt.subplots(2,3, figsize = (25,10))\n",
        "i,j,k = 0,0,0\n",
        "for col in col_list:\n",
        "  vc = data[col].value_counts()\n",
        "  vc = vc.sort_index()\n",
        "  perc = (vc/vc.sum()*100).round(1)\n",
        "  #print(vc)\n",
        "  ax[i,j].bar(x = vc.index, height = vc.values, color = colr[k])\n",
        "  ax[i,j].set_title(col.replace(\"_\", \" \"), size = 14)\n",
        "  ax[i,j].set_xticks(vc.index)\n",
        "  for l in vc.index:\n",
        "    #print(l)\n",
        "    ax[i,j].annotate(\"{} %\".format(perc[l]), xy = (l-0.15,vc[l]+2), size = 12)\n",
        "    ax[i,j].set_ylim(0,  25 * round(vc.max()/25)+25)\n",
        "  j += 1\n",
        "  k += 1\n",
        "  if j == 3:\n",
        "    j = 0\n",
        "    i += 1"
      ],
      "metadata": {
        "colab": {
          "base_uri": "https://localhost:8080/",
          "height": 539
        },
        "id": "6pa6zwennm3U",
        "outputId": "e2f6fb57-8c2b-4e60-a745-198ddb5110b1"
      },
      "execution_count": null,
      "outputs": [
        {
          "output_type": "display_data",
          "data": {
            "text/plain": [
              "<Figure size 2500x1000 with 6 Axes>"
            ],
            "image/png": "[encoded data removed]"
          },
          "metadata": {}
        }
      ]
    },
    {
      "cell_type": "markdown",
      "source": [
        "## Study the event distribution across models"
      ],
      "metadata": {
        "id": "Bj0m7kTDKsB1"
      }
    },
    {
      "cell_type": "code",
      "source": [
        "data.loc[:, 'Model'] = data['Model'].str.strip()\n",
        "data.loc[:, 'Model'] = data['Model'].replace(\"-\", \"0\")"
      ],
      "metadata": {
        "id": "C7zhCNwAnmxO"
      },
      "execution_count": null,
      "outputs": []
    },
    {
      "cell_type": "code",
      "source": [
        "vc = data.Model.value_counts()\n",
        "vc = vc[[\"S\", \"X\", \"Y\", \"3\"]]\n",
        "plt.figure(figsize = (15,5))\n",
        "plt.bar(height = vc.values, x = vc.index, color = \"chocolate\")\n",
        "plt.xticks(vc.index, \"Model -\"+ vc.index.astype(str))\n",
        "for i in range(len(vc.index)):\n",
        "  plt.annotate(vc[i], xy = (i-0.05, vc[i]+1), size = 13)\n",
        "plt.title(\"Event per Model\", size = 30, color = \"brown\", weight = \"heavy\")\n",
        "plt.ylim(0, 25 * round(vc.max()/25))\n",
        "plt.show()"
      ],
      "metadata": {
        "id": "Eak3z7dtnmtj",
        "colab": {
          "base_uri": "https://localhost:8080/",
          "height": 542
        },
        "outputId": "a4555f9c-f5e6-4972-b31a-7543875c53b6"
      },
      "execution_count": null,
      "outputs": [
        {
          "output_type": "stream",
          "name": "stderr",
          "text": [
            "<ipython-input-36-4289dc5be28c>:7: FutureWarning: Series.__getitem__ treating keys as positions is deprecated. In a future version, integer keys will always be treated as labels (consistent with DataFrame behavior). To access a value by position, use `ser.iloc[pos]`\n",
            "  plt.annotate(vc[i], xy = (i-0.05, vc[i]+1), size = 13)\n"
          ]
        },
        {
          "output_type": "display_data",
          "data": {
            "text/plain": [
              "<Figure size 1500x500 with 1 Axes>"
            ],
            "image/png": "[encoded data removed]"
          },
          "metadata": {}
        }
      ]
    },
    {
      "cell_type": "markdown",
      "source": [
        "## Checking the distribution of verified tesla autopilot deaths"
      ],
      "metadata": {
        "id": "b2ScpWVWKNsd"
      }
    },
    {
      "cell_type": "code",
      "source": [
        "vc = data.VTAD.value_counts()\n",
        "plt.figure(figsize = (4,4))\n",
        "vc.plot.pie(radius = 1.2, autopct = \"%1.2f%%\", shadow = True, wedgeprops = {'edgecolor':\"white\"}, cmap = 'Set2',\n",
        "            explode = [0.001, 0.01,0.1])\n",
        "plt.ylabel(\"\")\n",
        "plt.title(\"VTAD\", pad = 5, size = 25)\n",
        "plt.show()"
      ],
      "metadata": {
        "colab": {
          "base_uri": "https://localhost:8080/",
          "height": 379
        },
        "id": "lBzzD5UBrcwR",
        "outputId": "0041ce34-71e4-4450-f903-5d3f9efd9f57"
      },
      "execution_count": null,
      "outputs": [
        {
          "output_type": "display_data",
          "data": {
            "text/plain": [
              "<Figure size 400x400 with 1 Axes>"
            ],
            "image/png": "[encoded data removed]"
          },
          "metadata": {}
        }
      ]
    }
  ]
}